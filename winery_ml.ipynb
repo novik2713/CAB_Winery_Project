{
 "cells": [
  {
   "cell_type": "code",
   "execution_count": 1,
   "metadata": {},
   "outputs": [],
   "source": [
    "import numpy as np\n",
    "import pandas as pd\n",
    "import matplotlib.pyplot as plt \n",
    "import seaborn as sns\n",
    "from sklearn import preprocessing, linear_model\n",
    "from sklearn.model_selection import train_test_split\n",
    "from sklearn.preprocessing import OneHotEncoder, LabelEncoder\n",
    "from sklearn.metrics import confusion_matrix, cohen_kappa_score, classification_report\n",
    "from sklearn.model_selection import GridSearchCV\n",
    "from sklearn.linear_model import LogisticRegression"
   ]
  },
  {
   "cell_type": "markdown",
   "metadata": {},
   "source": [
    "<span style=\"font-size: larger;\">Task 1. Defining the type of wine</span>"
   ]
  },
  {
   "cell_type": "code",
   "execution_count": 48,
   "metadata": {},
   "outputs": [
    {
     "data": {
      "text/html": [
       "<div>\n",
       "<style scoped>\n",
       "    .dataframe tbody tr th:only-of-type {\n",
       "        vertical-align: middle;\n",
       "    }\n",
       "\n",
       "    .dataframe tbody tr th {\n",
       "        vertical-align: top;\n",
       "    }\n",
       "\n",
       "    .dataframe thead th {\n",
       "        text-align: right;\n",
       "    }\n",
       "</style>\n",
       "<table border=\"1\" class=\"dataframe\">\n",
       "  <thead>\n",
       "    <tr style=\"text-align: right;\">\n",
       "      <th></th>\n",
       "      <th>wine_type</th>\n",
       "      <th>fixed acidity</th>\n",
       "      <th>volatile acidity</th>\n",
       "      <th>citric acid</th>\n",
       "      <th>residual sugar</th>\n",
       "      <th>chlorides</th>\n",
       "      <th>free sulfur dioxide</th>\n",
       "      <th>total sulfur dioxide</th>\n",
       "      <th>density</th>\n",
       "      <th>pH</th>\n",
       "      <th>sulphates</th>\n",
       "      <th>alcohol</th>\n",
       "      <th>quality</th>\n",
       "    </tr>\n",
       "  </thead>\n",
       "  <tbody>\n",
       "    <tr>\n",
       "      <th>0</th>\n",
       "      <td>red wine</td>\n",
       "      <td>7.4</td>\n",
       "      <td>0.70</td>\n",
       "      <td>0.00</td>\n",
       "      <td>1.9</td>\n",
       "      <td>0.076</td>\n",
       "      <td>11.0</td>\n",
       "      <td>34.0</td>\n",
       "      <td>0.9978</td>\n",
       "      <td>3.51</td>\n",
       "      <td>0.56</td>\n",
       "      <td>9.4</td>\n",
       "      <td>5</td>\n",
       "    </tr>\n",
       "    <tr>\n",
       "      <th>1</th>\n",
       "      <td>red wine</td>\n",
       "      <td>7.8</td>\n",
       "      <td>0.88</td>\n",
       "      <td>0.00</td>\n",
       "      <td>2.6</td>\n",
       "      <td>0.098</td>\n",
       "      <td>25.0</td>\n",
       "      <td>67.0</td>\n",
       "      <td>0.9968</td>\n",
       "      <td>3.20</td>\n",
       "      <td>0.68</td>\n",
       "      <td>9.8</td>\n",
       "      <td>5</td>\n",
       "    </tr>\n",
       "    <tr>\n",
       "      <th>2</th>\n",
       "      <td>red wine</td>\n",
       "      <td>7.8</td>\n",
       "      <td>0.76</td>\n",
       "      <td>0.04</td>\n",
       "      <td>2.3</td>\n",
       "      <td>0.092</td>\n",
       "      <td>15.0</td>\n",
       "      <td>54.0</td>\n",
       "      <td>0.9970</td>\n",
       "      <td>3.26</td>\n",
       "      <td>0.65</td>\n",
       "      <td>9.8</td>\n",
       "      <td>5</td>\n",
       "    </tr>\n",
       "    <tr>\n",
       "      <th>3</th>\n",
       "      <td>red wine</td>\n",
       "      <td>11.2</td>\n",
       "      <td>0.28</td>\n",
       "      <td>0.56</td>\n",
       "      <td>1.9</td>\n",
       "      <td>0.075</td>\n",
       "      <td>17.0</td>\n",
       "      <td>60.0</td>\n",
       "      <td>0.9980</td>\n",
       "      <td>3.16</td>\n",
       "      <td>0.58</td>\n",
       "      <td>9.8</td>\n",
       "      <td>6</td>\n",
       "    </tr>\n",
       "    <tr>\n",
       "      <th>4</th>\n",
       "      <td>red wine</td>\n",
       "      <td>7.4</td>\n",
       "      <td>0.70</td>\n",
       "      <td>0.00</td>\n",
       "      <td>1.9</td>\n",
       "      <td>0.076</td>\n",
       "      <td>11.0</td>\n",
       "      <td>34.0</td>\n",
       "      <td>0.9978</td>\n",
       "      <td>3.51</td>\n",
       "      <td>0.56</td>\n",
       "      <td>9.4</td>\n",
       "      <td>5</td>\n",
       "    </tr>\n",
       "  </tbody>\n",
       "</table>\n",
       "</div>"
      ],
      "text/plain": [
       "  wine_type  fixed acidity  volatile acidity  citric acid  residual sugar  \\\n",
       "0  red wine            7.4              0.70         0.00             1.9   \n",
       "1  red wine            7.8              0.88         0.00             2.6   \n",
       "2  red wine            7.8              0.76         0.04             2.3   \n",
       "3  red wine           11.2              0.28         0.56             1.9   \n",
       "4  red wine            7.4              0.70         0.00             1.9   \n",
       "\n",
       "   chlorides  free sulfur dioxide  total sulfur dioxide  density    pH  \\\n",
       "0      0.076                 11.0                  34.0   0.9978  3.51   \n",
       "1      0.098                 25.0                  67.0   0.9968  3.20   \n",
       "2      0.092                 15.0                  54.0   0.9970  3.26   \n",
       "3      0.075                 17.0                  60.0   0.9980  3.16   \n",
       "4      0.076                 11.0                  34.0   0.9978  3.51   \n",
       "\n",
       "   sulphates  alcohol  quality  \n",
       "0       0.56      9.4        5  \n",
       "1       0.68      9.8        5  \n",
       "2       0.65      9.8        5  \n",
       "3       0.58      9.8        6  \n",
       "4       0.56      9.4        5  "
      ]
     },
     "execution_count": 48,
     "metadata": {},
     "output_type": "execute_result"
    }
   ],
   "source": [
    "wine = pd.read_csv(\"D:\\Data Science CAB\\PJ\\PJ2_Winery\\winemerged_data.csv\")\n",
    "wine.drop(['outliers','quality_category'], axis = 1, inplace=True)\n",
    "wine.head()"
   ]
  },
  {
   "cell_type": "code",
   "execution_count": 3,
   "metadata": {},
   "outputs": [
    {
     "data": {
      "text/plain": [
       "'Wine'"
      ]
     },
     "metadata": {},
     "output_type": "display_data"
    },
    {
     "data": {
      "text/plain": [
       "total sulfur dioxide   -0.001177\n",
       "pH                      0.386839\n",
       "citric acid             0.471731\n",
       "density                 0.503602\n",
       "alcohol                 0.565718\n",
       "free sulfur dioxide     1.220066\n",
       "residual sugar          1.435404\n",
       "volatile acidity        1.495097\n",
       "fixed acidity           1.723290\n",
       "sulphates               1.797270\n",
       "chlorides               5.399828\n",
       "dtype: float64"
      ]
     },
     "metadata": {},
     "output_type": "display_data"
    }
   ],
   "source": [
    "skewness= wine[['fixed acidity', 'volatile acidity', 'citric acid', 'residual sugar', 'chlorides', 'free sulfur dioxide', 'total sulfur dioxide', 'density', 'pH', 'sulphates', 'alcohol']].astype(float).skew()\n",
    "display('Wine', skewness.sort_values())"
   ]
  },
  {
   "cell_type": "code",
   "execution_count": 4,
   "metadata": {},
   "outputs": [
    {
     "data": {
      "text/plain": [
       "'Wine'"
      ]
     },
     "metadata": {},
     "output_type": "display_data"
    },
    {
     "data": {
      "text/plain": [
       "alcohol                 -0.531687\n",
       "total sulfur dioxide    -0.371664\n",
       "pH                       0.367657\n",
       "citric acid              2.397239\n",
       "volatile acidity         2.825372\n",
       "residual sugar           4.359272\n",
       "fixed acidity            5.061161\n",
       "density                  6.606067\n",
       "free sulfur dioxide      7.906238\n",
       "sulphates                8.653699\n",
       "chlorides               50.898051\n",
       "dtype: float64"
      ]
     },
     "metadata": {},
     "output_type": "display_data"
    }
   ],
   "source": [
    "kurtosis = wine[['fixed acidity', 'volatile acidity', 'citric acid', 'residual sugar', 'chlorides', 'free sulfur dioxide', 'total sulfur dioxide', 'density', 'pH', 'sulphates', 'alcohol']].astype(float).kurt() \n",
    "display('Wine', kurtosis.sort_values())"
   ]
  },
  {
   "cell_type": "code",
   "execution_count": 49,
   "metadata": {},
   "outputs": [
    {
     "data": {
      "text/html": [
       "<div>\n",
       "<style scoped>\n",
       "    .dataframe tbody tr th:only-of-type {\n",
       "        vertical-align: middle;\n",
       "    }\n",
       "\n",
       "    .dataframe tbody tr th {\n",
       "        vertical-align: top;\n",
       "    }\n",
       "\n",
       "    .dataframe thead th {\n",
       "        text-align: right;\n",
       "    }\n",
       "</style>\n",
       "<table border=\"1\" class=\"dataframe\">\n",
       "  <thead>\n",
       "    <tr style=\"text-align: right;\">\n",
       "      <th></th>\n",
       "      <th>wine_type</th>\n",
       "      <th>fixed acidity</th>\n",
       "      <th>volatile acidity</th>\n",
       "      <th>citric acid</th>\n",
       "      <th>residual sugar</th>\n",
       "      <th>chlorides</th>\n",
       "      <th>free sulfur dioxide</th>\n",
       "      <th>total sulfur dioxide</th>\n",
       "      <th>density</th>\n",
       "      <th>pH</th>\n",
       "      <th>sulphates</th>\n",
       "      <th>alcohol</th>\n",
       "      <th>quality</th>\n",
       "      <th>wine_type_red wine</th>\n",
       "      <th>wine_type_white wine</th>\n",
       "    </tr>\n",
       "  </thead>\n",
       "  <tbody>\n",
       "    <tr>\n",
       "      <th>0</th>\n",
       "      <td>red wine</td>\n",
       "      <td>7.4</td>\n",
       "      <td>0.70</td>\n",
       "      <td>0.00</td>\n",
       "      <td>1.9</td>\n",
       "      <td>0.076</td>\n",
       "      <td>11.0</td>\n",
       "      <td>34.0</td>\n",
       "      <td>0.9978</td>\n",
       "      <td>3.51</td>\n",
       "      <td>0.56</td>\n",
       "      <td>9.4</td>\n",
       "      <td>5</td>\n",
       "      <td>1.0</td>\n",
       "      <td>0.0</td>\n",
       "    </tr>\n",
       "    <tr>\n",
       "      <th>1</th>\n",
       "      <td>red wine</td>\n",
       "      <td>7.8</td>\n",
       "      <td>0.88</td>\n",
       "      <td>0.00</td>\n",
       "      <td>2.6</td>\n",
       "      <td>0.098</td>\n",
       "      <td>25.0</td>\n",
       "      <td>67.0</td>\n",
       "      <td>0.9968</td>\n",
       "      <td>3.20</td>\n",
       "      <td>0.68</td>\n",
       "      <td>9.8</td>\n",
       "      <td>5</td>\n",
       "      <td>1.0</td>\n",
       "      <td>0.0</td>\n",
       "    </tr>\n",
       "    <tr>\n",
       "      <th>2</th>\n",
       "      <td>red wine</td>\n",
       "      <td>7.8</td>\n",
       "      <td>0.76</td>\n",
       "      <td>0.04</td>\n",
       "      <td>2.3</td>\n",
       "      <td>0.092</td>\n",
       "      <td>15.0</td>\n",
       "      <td>54.0</td>\n",
       "      <td>0.9970</td>\n",
       "      <td>3.26</td>\n",
       "      <td>0.65</td>\n",
       "      <td>9.8</td>\n",
       "      <td>5</td>\n",
       "      <td>1.0</td>\n",
       "      <td>0.0</td>\n",
       "    </tr>\n",
       "    <tr>\n",
       "      <th>3</th>\n",
       "      <td>red wine</td>\n",
       "      <td>11.2</td>\n",
       "      <td>0.28</td>\n",
       "      <td>0.56</td>\n",
       "      <td>1.9</td>\n",
       "      <td>0.075</td>\n",
       "      <td>17.0</td>\n",
       "      <td>60.0</td>\n",
       "      <td>0.9980</td>\n",
       "      <td>3.16</td>\n",
       "      <td>0.58</td>\n",
       "      <td>9.8</td>\n",
       "      <td>6</td>\n",
       "      <td>1.0</td>\n",
       "      <td>0.0</td>\n",
       "    </tr>\n",
       "    <tr>\n",
       "      <th>4</th>\n",
       "      <td>red wine</td>\n",
       "      <td>7.4</td>\n",
       "      <td>0.70</td>\n",
       "      <td>0.00</td>\n",
       "      <td>1.9</td>\n",
       "      <td>0.076</td>\n",
       "      <td>11.0</td>\n",
       "      <td>34.0</td>\n",
       "      <td>0.9978</td>\n",
       "      <td>3.51</td>\n",
       "      <td>0.56</td>\n",
       "      <td>9.4</td>\n",
       "      <td>5</td>\n",
       "      <td>1.0</td>\n",
       "      <td>0.0</td>\n",
       "    </tr>\n",
       "  </tbody>\n",
       "</table>\n",
       "</div>"
      ],
      "text/plain": [
       "  wine_type  fixed acidity  volatile acidity  citric acid  residual sugar  \\\n",
       "0  red wine            7.4              0.70         0.00             1.9   \n",
       "1  red wine            7.8              0.88         0.00             2.6   \n",
       "2  red wine            7.8              0.76         0.04             2.3   \n",
       "3  red wine           11.2              0.28         0.56             1.9   \n",
       "4  red wine            7.4              0.70         0.00             1.9   \n",
       "\n",
       "   chlorides  free sulfur dioxide  total sulfur dioxide  density    pH  \\\n",
       "0      0.076                 11.0                  34.0   0.9978  3.51   \n",
       "1      0.098                 25.0                  67.0   0.9968  3.20   \n",
       "2      0.092                 15.0                  54.0   0.9970  3.26   \n",
       "3      0.075                 17.0                  60.0   0.9980  3.16   \n",
       "4      0.076                 11.0                  34.0   0.9978  3.51   \n",
       "\n",
       "   sulphates  alcohol  quality  wine_type_red wine  wine_type_white wine  \n",
       "0       0.56      9.4        5                 1.0                   0.0  \n",
       "1       0.68      9.8        5                 1.0                   0.0  \n",
       "2       0.65      9.8        5                 1.0                   0.0  \n",
       "3       0.58      9.8        6                 1.0                   0.0  \n",
       "4       0.56      9.4        5                 1.0                   0.0  "
      ]
     },
     "execution_count": 49,
     "metadata": {},
     "output_type": "execute_result"
    }
   ],
   "source": [
    "# One-Hot Encoder \"white\" will have 0 in the \"red\" and a 1 in the \"white\"\n",
    "OHE = OneHotEncoder()\n",
    "wine_OHE = OHE.fit_transform(wine[['wine_type']])\n",
    "wine_OHE_df = pd.DataFrame(wine_OHE.toarray(), columns=OHE.get_feature_names_out(['wine_type']))\n",
    "wine = pd.concat([wine, wine_OHE_df], axis=1)\n",
    "wine.head()"
   ]
  },
  {
   "cell_type": "code",
   "execution_count": 50,
   "metadata": {},
   "outputs": [
    {
     "data": {
      "text/html": [
       "<div>\n",
       "<style scoped>\n",
       "    .dataframe tbody tr th:only-of-type {\n",
       "        vertical-align: middle;\n",
       "    }\n",
       "\n",
       "    .dataframe tbody tr th {\n",
       "        vertical-align: top;\n",
       "    }\n",
       "\n",
       "    .dataframe thead th {\n",
       "        text-align: right;\n",
       "    }\n",
       "</style>\n",
       "<table border=\"1\" class=\"dataframe\">\n",
       "  <thead>\n",
       "    <tr style=\"text-align: right;\">\n",
       "      <th></th>\n",
       "      <th>fixed acidity</th>\n",
       "      <th>volatile acidity</th>\n",
       "      <th>citric acid</th>\n",
       "      <th>residual sugar</th>\n",
       "      <th>chlorides</th>\n",
       "      <th>free sulfur dioxide</th>\n",
       "      <th>total sulfur dioxide</th>\n",
       "      <th>density</th>\n",
       "      <th>pH</th>\n",
       "      <th>sulphates</th>\n",
       "      <th>alcohol</th>\n",
       "      <th>quality</th>\n",
       "      <th>wine_type_red wine</th>\n",
       "      <th>wine_type_white wine</th>\n",
       "    </tr>\n",
       "  </thead>\n",
       "  <tbody>\n",
       "    <tr>\n",
       "      <th>6492</th>\n",
       "      <td>6.2</td>\n",
       "      <td>0.21</td>\n",
       "      <td>0.29</td>\n",
       "      <td>1.6</td>\n",
       "      <td>0.039</td>\n",
       "      <td>24.0</td>\n",
       "      <td>92.0</td>\n",
       "      <td>0.99114</td>\n",
       "      <td>3.27</td>\n",
       "      <td>0.50</td>\n",
       "      <td>11.2</td>\n",
       "      <td>6</td>\n",
       "      <td>0.0</td>\n",
       "      <td>1.0</td>\n",
       "    </tr>\n",
       "    <tr>\n",
       "      <th>6493</th>\n",
       "      <td>6.6</td>\n",
       "      <td>0.32</td>\n",
       "      <td>0.36</td>\n",
       "      <td>8.0</td>\n",
       "      <td>0.047</td>\n",
       "      <td>57.0</td>\n",
       "      <td>168.0</td>\n",
       "      <td>0.99490</td>\n",
       "      <td>3.15</td>\n",
       "      <td>0.46</td>\n",
       "      <td>9.6</td>\n",
       "      <td>5</td>\n",
       "      <td>0.0</td>\n",
       "      <td>1.0</td>\n",
       "    </tr>\n",
       "    <tr>\n",
       "      <th>6494</th>\n",
       "      <td>6.5</td>\n",
       "      <td>0.24</td>\n",
       "      <td>0.19</td>\n",
       "      <td>1.2</td>\n",
       "      <td>0.041</td>\n",
       "      <td>30.0</td>\n",
       "      <td>111.0</td>\n",
       "      <td>0.99254</td>\n",
       "      <td>2.99</td>\n",
       "      <td>0.46</td>\n",
       "      <td>9.4</td>\n",
       "      <td>6</td>\n",
       "      <td>0.0</td>\n",
       "      <td>1.0</td>\n",
       "    </tr>\n",
       "    <tr>\n",
       "      <th>6495</th>\n",
       "      <td>5.5</td>\n",
       "      <td>0.29</td>\n",
       "      <td>0.30</td>\n",
       "      <td>1.1</td>\n",
       "      <td>0.022</td>\n",
       "      <td>20.0</td>\n",
       "      <td>110.0</td>\n",
       "      <td>0.98869</td>\n",
       "      <td>3.34</td>\n",
       "      <td>0.38</td>\n",
       "      <td>12.8</td>\n",
       "      <td>7</td>\n",
       "      <td>0.0</td>\n",
       "      <td>1.0</td>\n",
       "    </tr>\n",
       "    <tr>\n",
       "      <th>6496</th>\n",
       "      <td>6.0</td>\n",
       "      <td>0.21</td>\n",
       "      <td>0.38</td>\n",
       "      <td>0.8</td>\n",
       "      <td>0.020</td>\n",
       "      <td>22.0</td>\n",
       "      <td>98.0</td>\n",
       "      <td>0.98941</td>\n",
       "      <td>3.26</td>\n",
       "      <td>0.32</td>\n",
       "      <td>11.8</td>\n",
       "      <td>6</td>\n",
       "      <td>0.0</td>\n",
       "      <td>1.0</td>\n",
       "    </tr>\n",
       "  </tbody>\n",
       "</table>\n",
       "</div>"
      ],
      "text/plain": [
       "      fixed acidity  volatile acidity  citric acid  residual sugar  chlorides  \\\n",
       "6492            6.2              0.21         0.29             1.6      0.039   \n",
       "6493            6.6              0.32         0.36             8.0      0.047   \n",
       "6494            6.5              0.24         0.19             1.2      0.041   \n",
       "6495            5.5              0.29         0.30             1.1      0.022   \n",
       "6496            6.0              0.21         0.38             0.8      0.020   \n",
       "\n",
       "      free sulfur dioxide  total sulfur dioxide  density    pH  sulphates  \\\n",
       "6492                 24.0                  92.0  0.99114  3.27       0.50   \n",
       "6493                 57.0                 168.0  0.99490  3.15       0.46   \n",
       "6494                 30.0                 111.0  0.99254  2.99       0.46   \n",
       "6495                 20.0                 110.0  0.98869  3.34       0.38   \n",
       "6496                 22.0                  98.0  0.98941  3.26       0.32   \n",
       "\n",
       "      alcohol  quality  wine_type_red wine  wine_type_white wine  \n",
       "6492     11.2        6                 0.0                   1.0  \n",
       "6493      9.6        5                 0.0                   1.0  \n",
       "6494      9.4        6                 0.0                   1.0  \n",
       "6495     12.8        7                 0.0                   1.0  \n",
       "6496     11.8        6                 0.0                   1.0  "
      ]
     },
     "execution_count": 50,
     "metadata": {},
     "output_type": "execute_result"
    }
   ],
   "source": [
    "wine = wine.drop('wine_type', axis=1)\n",
    "wine.tail()"
   ]
  },
  {
   "cell_type": "code",
   "execution_count": 51,
   "metadata": {},
   "outputs": [
    {
     "data": {
      "image/png": "[encoded data removed]",
      "text/plain": [
       "<Figure size 800x600 with 2 Axes>"
      ]
     },
     "metadata": {},
     "output_type": "display_data"
    }
   ],
   "source": [
    "plt.figure(figsize=(8, 6))\n",
    "correlation_with_red_wine = wine.corr()['wine_type_red wine'].drop(['wine_type_red wine','wine_type_white wine']).sort_values(ascending=True)\n",
    "sns.heatmap(correlation_with_red_wine.to_frame(), annot=True, cmap='coolwarm', vmin=-1, vmax=1)\n",
    "plt.show()"
   ]
  },
  {
   "cell_type": "code",
   "execution_count": 52,
   "metadata": {},
   "outputs": [
    {
     "name": "stdout",
     "output_type": "stream",
     "text": [
      "(6497, 1)\n",
      "(6497, 4)\n"
     ]
    }
   ],
   "source": [
    "type = wine[\"wine_type_red wine\"].values.reshape(-1, 1)\n",
    "wine = wine[['volatile acidity','chlorides', 'total sulfur dioxide', 'sulphates']] #testing only with 4 parameters\n",
    "\n",
    "print(type.shape)\n",
    "print(wine.shape)"
   ]
  },
  {
   "cell_type": "code",
   "execution_count": 53,
   "metadata": {},
   "outputs": [],
   "source": [
    "x_train, x_test, y_train, y_test = train_test_split(wine, type, test_size=0.2, random_state=42)"
   ]
  },
  {
   "cell_type": "code",
   "execution_count": 10,
   "metadata": {},
   "outputs": [],
   "source": [
    "#Create a function within many Machine Learning Models\n",
    "def models(X_train,Y_train):\n",
    "  # Using Logistic Regression Algorithm to the Training Set\n",
    "  from sklearn.linear_model import LogisticRegression\n",
    "  log = LogisticRegression(solver='lbfgs', max_iter=100)\n",
    "  log.fit(X_train, Y_train.ravel())\n",
    "  \n",
    "  # Using Linear Regression Algorithm to the Training Set\n",
    "  linreg = linear_model.LinearRegression()\n",
    "  linreg.fit(X_train, Y_train)\n",
    "\n",
    "  #Using KNeighborsClassifier Method of neighbors class to use Nearest Neighbor algorithm\n",
    "  from sklearn.neighbors import KNeighborsClassifier\n",
    "  knn = KNeighborsClassifier(n_neighbors = 5, metric = 'minkowski', p = 2)\n",
    "  knn.fit(X_train, Y_train)\n",
    "\n",
    "  #Using DecisionTreeClassifier of tree class to use Decision Tree Algorithm\n",
    "  from sklearn.tree import DecisionTreeClassifier\n",
    "  tree = DecisionTreeClassifier(criterion = 'entropy', random_state = 0)\n",
    "  tree.fit(X_train, Y_train.ravel())\n",
    "\n",
    "  #Using RandomForestClassifier method of ensemble class to use Random Forest Classification algorithm\n",
    "  from sklearn.ensemble import RandomForestClassifier\n",
    "  forest = RandomForestClassifier(n_estimators = 10, criterion = 'entropy', random_state = 0)\n",
    "  forest.fit(X_train, Y_train.ravel())\n",
    "  \n",
    "  #print model accuracy on the training data.\n",
    "  print('Logistic Regression Training Accuracy:', (log.score(x_test, y_test))*100)\n",
    "  print('Linear Regression Training Accuracy:', (linreg.score(x_test, y_test))*100)\n",
    "  print('K Nearest Neighbor Training Accuracy:', knn.score(x_test, y_test))\n",
    "  print('Decision Tree Classifier Training Accuracy:', (tree.score(x_test, y_test))*100)\n",
    "  print('Random Forest Classifier Training Accuracy:', (forest.score(x_test, y_test))*100)"
   ]
  },
  {
   "cell_type": "code",
   "execution_count": 54,
   "metadata": {},
   "outputs": [
    {
     "name": "stdout",
     "output_type": "stream",
     "text": [
      "Logistic Regression Training Accuracy: 96.23076923076923\n",
      "Linear Regression Training Accuracy: 72.89927698196146\n",
      "K Nearest Neighbor Training Accuracy: 0.9407692307692308\n",
      "Decision Tree Classifier Training Accuracy: 98.53846153846155\n",
      "Random Forest Classifier Training Accuracy: 98.53846153846155\n"
     ]
    },
    {
     "name": "stderr",
     "output_type": "stream",
     "text": [
      "c:\\Users\\Iurii Novachynskyi\\anaconda3\\envs\\CAB\\lib\\site-packages\\sklearn\\neighbors\\_classification.py:233: DataConversionWarning: A column-vector y was passed when a 1d array was expected. Please change the shape of y to (n_samples,), for example using ravel().\n",
      "  return self._fit(X, y)\n"
     ]
    }
   ],
   "source": [
    "models(x_train,y_train)"
   ]
  },
  {
   "cell_type": "code",
   "execution_count": 55,
   "metadata": {},
   "outputs": [
    {
     "name": "stdout",
     "output_type": "stream",
     "text": [
      "Logistic Regression Algorithm Accuracy: 97.69\n"
     ]
    }
   ],
   "source": [
    "# Chosed Logistic Regression Algorithm because it's simple fast and works good for binary classification\n",
    "wine_logregression = LogisticRegression(C= 10, max_iter= 300, penalty= 'l1', solver= 'liblinear', random_state = 0)\n",
    "wine_logregression.fit(x_train, y_train.ravel())\n",
    "print(f'Logistic Regression Algorithm Accuracy: {(wine_logregression.score(x_train, y_train)*100).round(2)}')"
   ]
  },
  {
   "cell_type": "code",
   "execution_count": 56,
   "metadata": {},
   "outputs": [
    {
     "name": "stdout",
     "output_type": "stream",
     "text": [
      "We probably have: White wine\n"
     ]
    },
    {
     "name": "stderr",
     "output_type": "stream",
     "text": [
      "c:\\Users\\Iurii Novachynskyi\\anaconda3\\envs\\CAB\\lib\\site-packages\\sklearn\\base.py:465: UserWarning: X does not have valid feature names, but LogisticRegression was fitted with feature names\n",
      "  warnings.warn(\n"
     ]
    }
   ],
   "source": [
    "#manually prediction\n",
    "predictions_w = [0.21, 0.039, 90.0, 0.68] # Enter the attributes ['volatile acidity','chlorides', 'total sulfur dioxide', 'sulphates']\n",
    "pred_result = wine_logregression.predict([predictions_w])\n",
    "wine_mapping = {1:\"Red Wine\", 0: \"White wine\"}\n",
    "predicted_wine = wine_mapping.get(pred_result[0], \"Unknown Wine\")\n",
    "print(f\"We probably have: {predicted_wine}\")"
   ]
  },
  {
   "cell_type": "markdown",
   "metadata": {},
   "source": [
    "<details>\n",
    "<summary>before GridSearchCV</summary>\n",
    "Logistic Regression Algorithm Accuracy: 97.04\n",
    "another Grid (solver='lbfgs', max_iter=100, C=10, penalty='l2')  =  97.46\n",
    "another (C= 5, max_iter= 350, penalty= 'l1', solver= 'liblinear', random_state = 0) = 97.67\n",
    "</details>"
   ]
  },
  {
   "cell_type": "code",
   "execution_count": 14,
   "metadata": {},
   "outputs": [
    {
     "ename": "NameError",
     "evalue": "name 'grid_search' is not defined",
     "output_type": "error",
     "traceback": [
      "\u001b[1;31m---------------------------------------------------------------------------\u001b[0m",
      "\u001b[1;31mNameError\u001b[0m                                 Traceback (most recent call last)",
      "\u001b[1;32md:\\Data Science CAB\\PJ\\PJ2_Winery\\winery_ml.ipynb Cell 16\u001b[0m line \u001b[0;36m1\n\u001b[0;32m      <a href='vscode-notebook-cell:/d%3A/Data%20Science%20CAB/PJ/PJ2_Winery/winery_ml.ipynb#X21sZmlsZQ%3D%3D?line=2'>3</a>\u001b[0m param_grid \u001b[39m=\u001b[39m {\n\u001b[0;32m      <a href='vscode-notebook-cell:/d%3A/Data%20Science%20CAB/PJ/PJ2_Winery/winery_ml.ipynb#X21sZmlsZQ%3D%3D?line=3'>4</a>\u001b[0m     \u001b[39m'\u001b[39m\u001b[39mC\u001b[39m\u001b[39m'\u001b[39m: [\u001b[39m0.001\u001b[39m, \u001b[39m0.01\u001b[39m, \u001b[39m0.1\u001b[39m, \u001b[39m0.5\u001b[39m, \u001b[39m1\u001b[39m, \u001b[39m5\u001b[39m, \u001b[39m10\u001b[39m], \n\u001b[0;32m      <a href='vscode-notebook-cell:/d%3A/Data%20Science%20CAB/PJ/PJ2_Winery/winery_ml.ipynb#X21sZmlsZQ%3D%3D?line=4'>5</a>\u001b[0m     \u001b[39m'\u001b[39m\u001b[39mpenalty\u001b[39m\u001b[39m'\u001b[39m: [\u001b[39m'\u001b[39m\u001b[39ml1\u001b[39m\u001b[39m'\u001b[39m, \u001b[39m'\u001b[39m\u001b[39ml2\u001b[39m\u001b[39m'\u001b[39m, \u001b[39m'\u001b[39m\u001b[39melasticnet\u001b[39m\u001b[39m'\u001b[39m, \u001b[39m'\u001b[39m\u001b[39mnone\u001b[39m\u001b[39m'\u001b[39m],\n\u001b[0;32m      <a href='vscode-notebook-cell:/d%3A/Data%20Science%20CAB/PJ/PJ2_Winery/winery_ml.ipynb#X21sZmlsZQ%3D%3D?line=5'>6</a>\u001b[0m     \u001b[39m'\u001b[39m\u001b[39mmax_iter\u001b[39m\u001b[39m'\u001b[39m: [\u001b[39m100\u001b[39m, \u001b[39m200\u001b[39m, \u001b[39m250\u001b[39m, \u001b[39m300\u001b[39m, \u001b[39m350\u001b[39m, \u001b[39m400\u001b[39m,\u001b[39m450\u001b[39m,\u001b[39m500\u001b[39m],\n\u001b[0;32m      <a href='vscode-notebook-cell:/d%3A/Data%20Science%20CAB/PJ/PJ2_Winery/winery_ml.ipynb#X21sZmlsZQ%3D%3D?line=6'>7</a>\u001b[0m     \u001b[39m'\u001b[39m\u001b[39msolver\u001b[39m\u001b[39m'\u001b[39m: [\u001b[39m'\u001b[39m\u001b[39mlbfgs\u001b[39m\u001b[39m'\u001b[39m, \u001b[39m'\u001b[39m\u001b[39mliblinear\u001b[39m\u001b[39m'\u001b[39m, \u001b[39m'\u001b[39m\u001b[39mnewton-cg\u001b[39m\u001b[39m'\u001b[39m, \u001b[39m'\u001b[39m\u001b[39mnewton-cholesky\u001b[39m\u001b[39m'\u001b[39m, \u001b[39m'\u001b[39m\u001b[39msag\u001b[39m\u001b[39m'\u001b[39m, \u001b[39m'\u001b[39m\u001b[39msaga\u001b[39m\u001b[39m'\u001b[39m]\n\u001b[0;32m      <a href='vscode-notebook-cell:/d%3A/Data%20Science%20CAB/PJ/PJ2_Winery/winery_ml.ipynb#X21sZmlsZQ%3D%3D?line=7'>8</a>\u001b[0m }\n\u001b[0;32m      <a href='vscode-notebook-cell:/d%3A/Data%20Science%20CAB/PJ/PJ2_Winery/winery_ml.ipynb#X21sZmlsZQ%3D%3D?line=8'>9</a>\u001b[0m \u001b[39m#grid_search = GridSearchCV(estimator=wine_logregression, param_grid=param_grid, cv=5, n_jobs=-1, scoring='accuracy')\u001b[39;00m\n\u001b[0;32m     <a href='vscode-notebook-cell:/d%3A/Data%20Science%20CAB/PJ/PJ2_Winery/winery_ml.ipynb#X21sZmlsZQ%3D%3D?line=9'>10</a>\u001b[0m \u001b[39m#grid_search.fit(x_train, y_train.ravel())\u001b[39;00m\n\u001b[1;32m---> <a href='vscode-notebook-cell:/d%3A/Data%20Science%20CAB/PJ/PJ2_Winery/winery_ml.ipynb#X21sZmlsZQ%3D%3D?line=10'>11</a>\u001b[0m best_params \u001b[39m=\u001b[39m grid_search\u001b[39m.\u001b[39mbest_params_\n\u001b[0;32m     <a href='vscode-notebook-cell:/d%3A/Data%20Science%20CAB/PJ/PJ2_Winery/winery_ml.ipynb#X21sZmlsZQ%3D%3D?line=11'>12</a>\u001b[0m \u001b[39mprint\u001b[39m(\u001b[39m\"\u001b[39m\u001b[39mBest Parameters:\u001b[39m\u001b[39m\"\u001b[39m, best_params)\n\u001b[0;32m     <a href='vscode-notebook-cell:/d%3A/Data%20Science%20CAB/PJ/PJ2_Winery/winery_ml.ipynb#X21sZmlsZQ%3D%3D?line=13'>14</a>\u001b[0m best_estimator \u001b[39m=\u001b[39m grid_search\u001b[39m.\u001b[39mbest_estimator_\n",
      "\u001b[1;31mNameError\u001b[0m: name 'grid_search' is not defined"
     ]
    }
   ],
   "source": [
    "#GridSearchCV no need to run again. uncomment if necessary\n",
    "wine_logregression = LogisticRegression()\n",
    "param_grid = {\n",
    "    'C': [0.001, 0.01, 0.1, 0.5, 1, 5, 10], \n",
    "    'penalty': ['l1', 'l2', 'elasticnet', 'none'],\n",
    "    'max_iter': [100, 200, 250, 300, 350, 400,450,500],\n",
    "    'solver': ['lbfgs', 'liblinear', 'newton-cg', 'newton-cholesky', 'sag', 'saga']\n",
    "}\n",
    "#grid_search = GridSearchCV(estimator=wine_logregression, param_grid=param_grid, cv=5, n_jobs=-1, scoring='accuracy')\n",
    "#grid_search.fit(x_train, y_train.ravel())\n",
    "best_params = grid_search.best_params_\n",
    "print(\"Best Parameters:\", best_params)\n",
    "\n",
    "best_estimator = grid_search.best_estimator_\n",
    "best_model_accuracy = best_estimator.score(x_train, y_train)\n",
    "print(\"Best Training Accuracy:\", best_model_accuracy)"
   ]
  },
  {
   "cell_type": "markdown",
   "metadata": {},
   "source": [
    "Defining the function for model evaluating (Confusion Matrix, Classification report and Cohen_Kappa_score)"
   ]
  },
  {
   "cell_type": "code",
   "execution_count": 57,
   "metadata": {},
   "outputs": [],
   "source": [
    "def evaluate_model(model, X_test, y_true, target_names=None):\n",
    "    y_pred = model.predict(X_test)\n",
    "\n",
    "    confusion = confusion_matrix(y_true, y_pred)\n",
    "    print(\"Confusion Matrix:\")\n",
    "    print(confusion)\n",
    "\n",
    "    report = classification_report(y_true, y_pred, target_names=target_names)\n",
    "    print(\"Classification Report:\")\n",
    "    print(report)\n",
    "\n",
    "    kappa = cohen_kappa_score(y_pred, y_true)\n",
    "    print(\"Cohen-Kappa score:\", kappa)"
   ]
  },
  {
   "cell_type": "code",
   "execution_count": 58,
   "metadata": {},
   "outputs": [
    {
     "name": "stdout",
     "output_type": "stream",
     "text": [
      "Confusion Matrix:\n",
      "[[949  10]\n",
      " [ 29 312]]\n",
      "Classification Report:\n",
      "              precision    recall  f1-score   support\n",
      "\n",
      "       White       0.97      0.99      0.98       959\n",
      "         Red       0.97      0.91      0.94       341\n",
      "\n",
      "    accuracy                           0.97      1300\n",
      "   macro avg       0.97      0.95      0.96      1300\n",
      "weighted avg       0.97      0.97      0.97      1300\n",
      "\n",
      "Cohen-Kappa score: 0.9210644313525228\n"
     ]
    }
   ],
   "source": [
    "evaluate_model(wine_logregression, x_test, y_test, target_names=[\"White\", \"Red\"])"
   ]
  },
  {
   "cell_type": "code",
   "execution_count": null,
   "metadata": {},
   "outputs": [
    {
     "data": {
      "image/png": "[encoded data removed]",
      "text/plain": [
       "<Figure size 800x600 with 2 Axes>"
      ]
     },
     "metadata": {},
     "output_type": "display_data"
    }
   ],
   "source": [
    "#heatmap to present results\n",
    "cm = confusion_matrix(y_test, wine_logregression.predict(x_test))\n",
    "plt.figure(figsize=(8, 6))\n",
    "sns.heatmap(cm, annot=True, fmt=\"d\", cmap=\"rocket_r\", xticklabels=[\"Predicted Red\", \"Predicted White\"], yticklabels=[\"True Red\", \"True White\"])\n",
    "plt.xlabel(\"Predicted\")\n",
    "plt.ylabel(\"True\")\n",
    "plt.title(\"Confusion Matrix for Wine Type\")\n",
    "plt.show()"
   ]
  },
  {
   "cell_type": "markdown",
   "metadata": {},
   "source": [
    "Trying KNeighbour and Decision Tree to compare the results"
   ]
  },
  {
   "cell_type": "code",
   "execution_count": 59,
   "metadata": {},
   "outputs": [
    {
     "name": "stderr",
     "output_type": "stream",
     "text": [
      "c:\\Users\\Iurii Novachynskyi\\anaconda3\\envs\\CAB\\lib\\site-packages\\sklearn\\neighbors\\_classification.py:233: DataConversionWarning: A column-vector y was passed when a 1d array was expected. Please change the shape of y to (n_samples,), for example using ravel().\n",
      "  return self._fit(X, y)\n"
     ]
    },
    {
     "name": "stdout",
     "output_type": "stream",
     "text": [
      "KNeighborsClassifier Accuracy: 96.73\n",
      "DecisionTreeClassifier Accuracy: 99.96\n"
     ]
    }
   ],
   "source": [
    "  #Using KNeighborsClassifier Method of neighbors class to use Nearest Neighbor algorithm\n",
    "from sklearn.neighbors import KNeighborsClassifier\n",
    "knn = KNeighborsClassifier(n_neighbors = 5, metric = 'minkowski', p = 2)\n",
    "knn.fit(x_train, y_train)\n",
    "print(f'KNeighborsClassifier Accuracy: {(knn.score(x_train, y_train)*100).round(2)}')\n",
    "  #Using DecisionTreeClassifier of tree class to use Decision Tree Algorithm\n",
    "from sklearn.tree import DecisionTreeClassifier\n",
    "tree = DecisionTreeClassifier(criterion = 'entropy', random_state = 0)\n",
    "tree.fit(x_train, y_train.ravel())\n",
    "print(f'DecisionTreeClassifier Accuracy: {(tree.score(x_train, y_train)*100).round(2)}')\n"
   ]
  },
  {
   "cell_type": "code",
   "execution_count": null,
   "metadata": {},
   "outputs": [
    {
     "name": "stdout",
     "output_type": "stream",
     "text": [
      "Confusion Matrix:\n",
      "[[934  25]\n",
      " [ 52 289]]\n",
      "Classification Report:\n",
      "              precision    recall  f1-score   support\n",
      "\n",
      "       White       0.95      0.97      0.96       959\n",
      "         Red       0.92      0.85      0.88       341\n",
      "\n",
      "    accuracy                           0.94      1300\n",
      "   macro avg       0.93      0.91      0.92      1300\n",
      "weighted avg       0.94      0.94      0.94      1300\n",
      "\n",
      "Cohen-Kappa score: 0.8429439305124955\n"
     ]
    },
    {
     "data": {
      "image/png": "[encoded data removed]",
      "text/plain": [
       "<Figure size 800x600 with 2 Axes>"
      ]
     },
     "metadata": {},
     "output_type": "display_data"
    }
   ],
   "source": [
    "evaluate_model(knn, x_test, y_test, target_names=[\"White\", \"Red\"])\n",
    "cm = confusion_matrix(y_test, knn.predict(x_test))\n",
    "plt.figure(figsize=(8, 6))\n",
    "sns.heatmap(cm, annot=True, fmt=\"d\", cmap=\"rocket_r\", xticklabels=[\"Predicted Red\", \"Predicted White\"], yticklabels=[\"True Red\", \"True White\"])\n",
    "plt.xlabel(\"Predicted\")\n",
    "plt.ylabel(\"True\")\n",
    "plt.title(\"Confusion Matrix for Wine Type\")\n",
    "plt.show()"
   ]
  },
  {
   "cell_type": "code",
   "execution_count": 69,
   "metadata": {},
   "outputs": [
    {
     "name": "stdout",
     "output_type": "stream",
     "text": [
      "Confusion Matrix:\n",
      "[[951   8]\n",
      " [ 11 330]]\n",
      "Classification Report:\n",
      "              precision    recall  f1-score   support\n",
      "\n",
      "       White       0.99      0.99      0.99       959\n",
      "         Red       0.98      0.97      0.97       341\n",
      "\n",
      "    accuracy                           0.99      1300\n",
      "   macro avg       0.98      0.98      0.98      1300\n",
      "weighted avg       0.99      0.99      0.99      1300\n",
      "\n",
      "Cohen-Kappa score: 0.9621272524318291\n"
     ]
    },
    {
     "data": {
      "image/png": "[encoded data removed]",
      "text/plain": [
       "<Figure size 800x600 with 2 Axes>"
      ]
     },
     "metadata": {},
     "output_type": "display_data"
    }
   ],
   "source": [
    "evaluate_model(tree, x_test, y_test, target_names=[\"White\", \"Red\"])\n",
    "cm = confusion_matrix(y_test, tree.predict(x_test))\n",
    "plt.figure(figsize=(8, 6))\n",
    "sns.heatmap(cm, annot=True, fmt=\"d\", cmap=\"rocket_r\", xticklabels=[\"Predicted Red\", \"Predicted White\"], yticklabels=[\"True Red\", \"True White\"])\n",
    "plt.xlabel(\"Predicted\")\n",
    "plt.ylabel(\"True\")\n",
    "plt.title(\"Confusion Matrix for Wine Type\")\n",
    "plt.show()\n"
   ]
  },
  {
   "cell_type": "markdown",
   "metadata": {},
   "source": [
    "<span style=\"font-size: larger;\">Task 2. Implementing ML for defining RED WINE QUALITY</span>"
   ]
  },
  {
   "cell_type": "code",
   "execution_count": null,
   "metadata": {},
   "outputs": [
    {
     "data": {
      "text/plain": [
       "quality_category\n",
       "medium    837\n",
       "low       744\n",
       "high       18\n",
       "Name: count, dtype: int64"
      ]
     },
     "execution_count": 57,
     "metadata": {},
     "output_type": "execute_result"
    }
   ],
   "source": [
    "red_wine = pd.read_csv(\"D:\\Data Science CAB\\PJ\\PJ2_Winery\\winequality-red.csv\", sep=';')\n",
    "red_wine['quality_category'] = red_wine['quality'].apply(lambda value: 'low' if value <= 5 else 'medium' if value <= 7 else 'high')#in original DF was no categories\n",
    "label_encoder = LabelEncoder()\n",
    "red_wine['quality_encoded'] = label_encoder.fit_transform(red_wine['quality_category'])\n",
    "red_wine['quality_category'].value_counts()"
   ]
  },
  {
   "cell_type": "code",
   "execution_count": null,
   "metadata": {},
   "outputs": [
    {
     "data": {
      "text/plain": [
       "'Red wine'"
      ]
     },
     "metadata": {},
     "output_type": "display_data"
    },
    {
     "data": {
      "text/plain": [
       "density                 0.071288\n",
       "pH                      0.193683\n",
       "citric acid             0.318337\n",
       "volatile acidity        0.671593\n",
       "alcohol                 0.860829\n",
       "fixed acidity           0.982751\n",
       "free sulfur dioxide     1.250567\n",
       "total sulfur dioxide    1.515531\n",
       "sulphates               2.428672\n",
       "residual sugar          4.540655\n",
       "chlorides               5.680347\n",
       "dtype: float64"
      ]
     },
     "metadata": {},
     "output_type": "display_data"
    }
   ],
   "source": [
    "skewness_rw = red_wine[['fixed acidity', 'volatile acidity', 'citric acid', 'residual sugar', 'chlorides', 'free sulfur dioxide', 'total sulfur dioxide', 'density', 'pH', 'sulphates', 'alcohol']].astype(float).skew()\n",
    "display('Red wine', skewness_rw.sort_values())"
   ]
  },
  {
   "cell_type": "code",
   "execution_count": null,
   "metadata": {},
   "outputs": [
    {
     "data": {
      "text/plain": [
       "citric acid             -0.788998\n",
       "alcohol                  0.200029\n",
       "pH                       0.806943\n",
       "density                  0.934079\n",
       "fixed acidity            1.132143\n",
       "volatile acidity         1.225542\n",
       "free sulfur dioxide      2.023562\n",
       "total sulfur dioxide     3.809824\n",
       "sulphates               11.720251\n",
       "residual sugar          28.617595\n",
       "chlorides               41.715787\n",
       "dtype: float64"
      ]
     },
     "metadata": {},
     "output_type": "display_data"
    }
   ],
   "source": [
    "kurtosis_rw = red_wine[['fixed acidity', 'volatile acidity', 'citric acid', 'residual sugar', 'chlorides', 'free sulfur dioxide', 'total sulfur dioxide', 'density', 'pH', 'sulphates', 'alcohol']].astype(float).kurt() \n",
    "display(kurtosis_rw.sort_values())"
   ]
  },
  {
   "cell_type": "code",
   "execution_count": null,
   "metadata": {},
   "outputs": [
    {
     "data": {
      "image/png": "[encoded data removed]",
      "text/plain": [
       "<Figure size 800x600 with 2 Axes>"
      ]
     },
     "metadata": {},
     "output_type": "display_data"
    }
   ],
   "source": [
    "plt.figure(figsize=(8, 6))\n",
    "red_wine = red_wine.drop(['quality_category'],axis='columns')\n",
    "correlation_quality_red = red_wine.corr()['quality_encoded'].drop(['quality_encoded','quality']).sort_values(ascending=True)\n",
    "sns.heatmap(correlation_quality_red.to_frame(), annot=True, cmap='coolwarm', vmin=-1, vmax=1)\n",
    "plt.show()"
   ]
  },
  {
   "cell_type": "code",
   "execution_count": null,
   "metadata": {},
   "outputs": [
    {
     "name": "stdout",
     "output_type": "stream",
     "text": [
      "(1599, 8)\n",
      "(1599, 1)\n"
     ]
    }
   ],
   "source": [
    "red_wine = red_wine.drop(['density','fixed acidity','residual sugar','free sulfur dioxide','pH'],axis='columns')\n",
    "Quality = red_wine[\"quality_encoded\"] \n",
    "Quality = Quality.values.reshape(-1, 1)\n",
    "\n",
    "print(red_wine.shape)\n",
    "print(Quality.shape)"
   ]
  },
  {
   "cell_type": "code",
   "execution_count": null,
   "metadata": {},
   "outputs": [],
   "source": [
    "red_wine = red_wine.drop([\"quality_encoded\", 'quality'],axis='columns') "
   ]
  },
  {
   "cell_type": "code",
   "execution_count": null,
   "metadata": {},
   "outputs": [
    {
     "name": "stdout",
     "output_type": "stream",
     "text": [
      "<class 'pandas.core.frame.DataFrame'>\n",
      "RangeIndex: 1599 entries, 0 to 1598\n",
      "Data columns (total 6 columns):\n",
      " #   Column                Non-Null Count  Dtype  \n",
      "---  ------                --------------  -----  \n",
      " 0   volatile acidity      1599 non-null   float64\n",
      " 1   citric acid           1599 non-null   float64\n",
      " 2   chlorides             1599 non-null   float64\n",
      " 3   total sulfur dioxide  1599 non-null   float64\n",
      " 4   sulphates             1599 non-null   float64\n",
      " 5   alcohol               1599 non-null   float64\n",
      "dtypes: float64(6)\n",
      "memory usage: 75.1 KB\n"
     ]
    }
   ],
   "source": [
    "red_wine.info()"
   ]
  },
  {
   "cell_type": "code",
   "execution_count": null,
   "metadata": {},
   "outputs": [],
   "source": [
    "r_train, r_test, Q_train, Q_test = train_test_split(red_wine, Quality, test_size=0.2, random_state=42)"
   ]
  },
  {
   "cell_type": "code",
   "execution_count": null,
   "metadata": {},
   "outputs": [],
   "source": [
    "#Create a function within many Machine Learning Models\n",
    "def models(X_train,Y_train):\n",
    "  \n",
    "  # Using Logistic Regression Algorithm to the Training Set\n",
    "  from sklearn.linear_model import LogisticRegression\n",
    "  log = LogisticRegression(solver='lbfgs', max_iter=100)\n",
    "  log.fit(X_train, Y_train.ravel())\n",
    "  \n",
    "  # Using Linear Regression Algorithm to the Training Set\n",
    "  linreg = linear_model.LinearRegression()\n",
    "  linreg.fit(X_train, Y_train)\n",
    "\n",
    "  #Using KNeighborsClassifier Method of neighbors class to use Nearest Neighbor algorithm\n",
    "  from sklearn.neighbors import KNeighborsClassifier\n",
    "  knn = KNeighborsClassifier(n_neighbors = 5, metric = 'minkowski', p = 2)\n",
    "  knn.fit(X_train, Y_train)\n",
    "\n",
    "  #Using DecisionTreeClassifier of tree class to use Decision Tree Algorithm\n",
    "  from sklearn.tree import DecisionTreeClassifier\n",
    "  tree = DecisionTreeClassifier(criterion = 'entropy', random_state = 0)\n",
    "  tree.fit(X_train, Y_train.ravel())\n",
    "\n",
    "  #Using RandomForestClassifier method of ensemble class to use Random Forest Classification algorithm\n",
    "  from sklearn.ensemble import RandomForestClassifier\n",
    "  forest = RandomForestClassifier(n_estimators = 10, criterion = 'entropy', random_state = 0)\n",
    "  forest.fit(X_train, Y_train.ravel())\n",
    "  \n",
    "  #print model accuracy on the training data.\n",
    "  print('Logistic Regression Training Accuracy:', (log.score(r_test, Q_test))*100)\n",
    "  print('Linear Regression Training Accuracy:', (linreg.score(r_test, Q_test))*100)\n",
    "  print('K Nearest Neighbor Training Accuracy:', knn.score(r_test, Q_test))\n",
    "  print('Decision Tree Classifier Training Accuracy:', (tree.score(r_test, Q_test))*100)\n",
    "  print('Random Forest Classifier Training Accuracy:', (forest.score(r_test, Q_test))*100)"
   ]
  },
  {
   "cell_type": "code",
   "execution_count": null,
   "metadata": {},
   "outputs": [
    {
     "name": "stdout",
     "output_type": "stream",
     "text": [
      "Logistic Regression Training Accuracy: 72.1875\n",
      "Linear Regression Training Accuracy: 14.797455778511349\n",
      "K Nearest Neighbor Training Accuracy: 0.653125\n",
      "Decision Tree Classifier Training Accuracy: 73.75\n",
      "Random Forest Classifier Training Accuracy: 77.1875\n"
     ]
    },
    {
     "name": "stderr",
     "output_type": "stream",
     "text": [
      "c:\\Users\\Iurii Novachynskyi\\anaconda3\\envs\\CAB\\lib\\site-packages\\sklearn\\linear_model\\_logistic.py:460: ConvergenceWarning: lbfgs failed to converge (status=1):\n",
      "STOP: TOTAL NO. of ITERATIONS REACHED LIMIT.\n",
      "\n",
      "Increase the number of iterations (max_iter) or scale the data as shown in:\n",
      "    https://scikit-learn.org/stable/modules/preprocessing.html\n",
      "Please also refer to the documentation for alternative solver options:\n",
      "    https://scikit-learn.org/stable/modules/linear_model.html#logistic-regression\n",
      "  n_iter_i = _check_optimize_result(\n",
      "c:\\Users\\Iurii Novachynskyi\\anaconda3\\envs\\CAB\\lib\\site-packages\\sklearn\\neighbors\\_classification.py:233: DataConversionWarning: A column-vector y was passed when a 1d array was expected. Please change the shape of y to (n_samples,), for example using ravel().\n",
      "  return self._fit(X, y)\n"
     ]
    }
   ],
   "source": [
    "models(r_train, Q_train)"
   ]
  },
  {
   "cell_type": "code",
   "execution_count": null,
   "metadata": {},
   "outputs": [
    {
     "name": "stdout",
     "output_type": "stream",
     "text": [
      "Random Forest Classifier Training Accuracy: 79.375\n"
     ]
    }
   ],
   "source": [
    "#Random Forest Classification algorithm\n",
    "from sklearn.ensemble import RandomForestClassifier\n",
    "red_rf = RandomForestClassifier(max_depth =20, min_samples_leaf= 1, min_samples_split= 2, n_estimators= 100, random_state = 0)\n",
    "red_rf.fit(r_train, Q_train.ravel())\n",
    "print('Random Forest Classifier Training Accuracy:', (red_rf.score(r_test, Q_test))*100)"
   ]
  },
  {
   "cell_type": "markdown",
   "metadata": {},
   "source": [
    "<details>\n",
    "<summary>before GridSearchCV</summary>\n",
    "Logistic Regression Algorithm Accuracy: 77.1875\n",
    "another Grid (n_estimators = 200, max_depth = None) = Random Forest Classifier Training Accuracy: 75.9375\n",
    "</details>"
   ]
  },
  {
   "cell_type": "code",
   "execution_count": null,
   "metadata": {},
   "outputs": [
    {
     "name": "stderr",
     "output_type": "stream",
     "text": [
      "c:\\Users\\Iurii Novachynskyi\\anaconda3\\envs\\CAB\\lib\\site-packages\\sklearn\\base.py:1151: DataConversionWarning: A column-vector y was passed when a 1d array was expected. Please change the shape of y to (n_samples,), for example using ravel().\n",
      "  return fit_method(estimator, *args, **kwargs)\n"
     ]
    },
    {
     "name": "stdout",
     "output_type": "stream",
     "text": [
      "Best Parameters: {'max_depth': 20, 'min_samples_leaf': 1, 'min_samples_split': 2, 'n_estimators': 150}\n",
      "Best Training Accuracy: 1.0\n"
     ]
    }
   ],
   "source": [
    "#gridsearch no nee to run again. uncomment code to run\n",
    "param_grid = {\n",
    "    'n_estimators': [50, 100, 150],\n",
    "    'max_depth': [20],\n",
    "    'min_samples_split': [2],\n",
    "    'min_samples_leaf': [1]\n",
    "}\n",
    "#grid_search = GridSearchCV(estimator=red_multitree, param_grid=param_grid, cv=5, n_jobs=-1, scoring='accuracy')\n",
    "#grid_search.fit(r_train, Q_train)\n",
    "best_params = grid_search.best_params_\n",
    "print(\"Best Parameters:\", best_params)\n",
    "best_estimator = grid_search.best_estimator_\n",
    "\n",
    "best_model_accuracy = best_estimator.score(r_train, Q_train)\n",
    "print(\"Best Training Accuracy:\", best_model_accuracy)"
   ]
  },
  {
   "cell_type": "code",
   "execution_count": null,
   "metadata": {},
   "outputs": [
    {
     "ename": "NameError",
     "evalue": "name 'red_multitree' is not defined",
     "output_type": "error",
     "traceback": [
      "\u001b[1;31m---------------------------------------------------------------------------\u001b[0m",
      "\u001b[1;31mNameError\u001b[0m                                 Traceback (most recent call last)",
      "\u001b[1;32md:\\Data Science CAB\\PJ\\PJ2_Winery\\winery_ml.ipynb Cell 39\u001b[0m line \u001b[0;36m9\n\u001b[0;32m      <a href='vscode-notebook-cell:/d%3A/Data%20Science%20CAB/PJ/PJ2_Winery/winery_ml.ipynb#X53sZmlsZQ%3D%3D?line=5'>6</a>\u001b[0m \u001b[39m# Enter the attributes ['volatile acidity\tcitric acid\tchlorides\ttotal sulfur dioxide\tsulphates\talcohol']\u001b[39;00m\n\u001b[0;32m      <a href='vscode-notebook-cell:/d%3A/Data%20Science%20CAB/PJ/PJ2_Winery/winery_ml.ipynb#X53sZmlsZQ%3D%3D?line=6'>7</a>\u001b[0m predictions \u001b[39m=\u001b[39m [\u001b[39m0.58\u001b[39m, \u001b[39m0.03\u001b[39m, \u001b[39m0.073\u001b[39m, \u001b[39m16.0\u001b[39m, \u001b[39m0.57\u001b[39m, \u001b[39m9.6\u001b[39m]\n\u001b[1;32m----> <a href='vscode-notebook-cell:/d%3A/Data%20Science%20CAB/PJ/PJ2_Winery/winery_ml.ipynb#X53sZmlsZQ%3D%3D?line=8'>9</a>\u001b[0m pred_result \u001b[39m=\u001b[39m red_multitree\u001b[39m.\u001b[39mpredict([predictions]) \n\u001b[0;32m     <a href='vscode-notebook-cell:/d%3A/Data%20Science%20CAB/PJ/PJ2_Winery/winery_ml.ipynb#X53sZmlsZQ%3D%3D?line=9'>10</a>\u001b[0m predicted_quality \u001b[39m=\u001b[39m quality_mapping\u001b[39m.\u001b[39mget(pred_result[\u001b[39m0\u001b[39m], \u001b[39m\"\u001b[39m\u001b[39mUnknown Quality\u001b[39m\u001b[39m\"\u001b[39m)\n\u001b[0;32m     <a href='vscode-notebook-cell:/d%3A/Data%20Science%20CAB/PJ/PJ2_Winery/winery_ml.ipynb#X53sZmlsZQ%3D%3D?line=11'>12</a>\u001b[0m \u001b[39mprint\u001b[39m(\u001b[39mf\u001b[39m\u001b[39m\"\u001b[39m\u001b[39mWe probably have Red wine with : \u001b[39m\u001b[39m{\u001b[39;00mpredicted_quality\u001b[39m}\u001b[39;00m\u001b[39m\"\u001b[39m\n\u001b[0;32m     <a href='vscode-notebook-cell:/d%3A/Data%20Science%20CAB/PJ/PJ2_Winery/winery_ml.ipynb#X53sZmlsZQ%3D%3D?line=12'>13</a>\u001b[0m       \u001b[39mf\u001b[39m\u001b[39m\"\u001b[39m\u001b[39m\\n\u001b[39;00m\u001b[39m Our characteristics are: volatile acidity: \u001b[39m\u001b[39m{\u001b[39;00mpredictions[\u001b[39m0\u001b[39m]\u001b[39m}\u001b[39;00m\u001b[39m, citric acid: \u001b[39m\u001b[39m{\u001b[39;00mpredictions[\u001b[39m1\u001b[39m]\u001b[39m}\u001b[39;00m\u001b[39m, chlorides: \u001b[39m\u001b[39m{\u001b[39;00mpredictions[\u001b[39m2\u001b[39m]\u001b[39m}\u001b[39;00m\u001b[39m  \u001b[39m\u001b[39m\"\u001b[39m\n\u001b[0;32m     <a href='vscode-notebook-cell:/d%3A/Data%20Science%20CAB/PJ/PJ2_Winery/winery_ml.ipynb#X53sZmlsZQ%3D%3D?line=13'>14</a>\u001b[0m       \u001b[39mf\u001b[39m\u001b[39m\"\u001b[39m\u001b[39m\\n\u001b[39;00m\u001b[39mtotal sulfur dioxide: \u001b[39m\u001b[39m{\u001b[39;00mpredictions[\u001b[39m3\u001b[39m]\u001b[39m}\u001b[39;00m\u001b[39m, sulphates: \u001b[39m\u001b[39m{\u001b[39;00mpredictions[\u001b[39m4\u001b[39m]\u001b[39m}\u001b[39;00m\u001b[39m, alcohol: \u001b[39m\u001b[39m{\u001b[39;00mpredictions[\u001b[39m5\u001b[39m]\u001b[39m}\u001b[39;00m\u001b[39m\"\u001b[39m)\n",
      "\u001b[1;31mNameError\u001b[0m: name 'red_multitree' is not defined"
     ]
    }
   ],
   "source": [
    "quality_mapping = {\n",
    "    0: \"High Quality\",\n",
    "    1: \"Medium Quality\",\n",
    "    2: \"Low Quality\"\n",
    "}\n",
    "# Enter the attributes ['volatile acidity\tcitric acid\tchlorides\ttotal sulfur dioxide\tsulphates\talcohol']\n",
    "predictions = [0.58, 0.03, 0.073, 16.0, 0.57, 9.6]\n",
    "\n",
    "pred_result = red_multitree.predict([predictions]) \n",
    "predicted_quality = quality_mapping.get(pred_result[0], \"Unknown Quality\")\n",
    "\n",
    "print(f\"We probably have Red wine with : {predicted_quality}\"\n",
    "      f\"\\n Our characteristics are: volatile acidity: {predictions[0]}, citric acid: {predictions[1]}, chlorides: {predictions[2]}  \"\n",
    "      f\"\\ntotal sulfur dioxide: {predictions[3]}, sulphates: {predictions[4]}, alcohol: {predictions[5]}\")"
   ]
  },
  {
   "cell_type": "code",
   "execution_count": null,
   "metadata": {},
   "outputs": [
    {
     "name": "stdout",
     "output_type": "stream",
     "text": [
      "Confusion Matrix:\n",
      "[[  0   0   5]\n",
      " [  0 116  25]\n",
      " [  0  36 138]]\n",
      "Classification Report:\n",
      "              precision    recall  f1-score   support\n",
      "\n",
      "        high       0.00      0.00      0.00         5\n",
      "         low       0.76      0.82      0.79       141\n",
      "      medium       0.82      0.79      0.81       174\n",
      "\n",
      "    accuracy                           0.79       320\n",
      "   macro avg       0.53      0.54      0.53       320\n",
      "weighted avg       0.78      0.79      0.79       320\n",
      "\n",
      "Cohen-Kappa score: 0.5917736199164991\n"
     ]
    },
    {
     "name": "stderr",
     "output_type": "stream",
     "text": [
      "c:\\Users\\Iurii Novachynskyi\\anaconda3\\envs\\CAB\\lib\\site-packages\\sklearn\\metrics\\_classification.py:1471: UndefinedMetricWarning: Precision and F-score are ill-defined and being set to 0.0 in labels with no predicted samples. Use `zero_division` parameter to control this behavior.\n",
      "  _warn_prf(average, modifier, msg_start, len(result))\n",
      "c:\\Users\\Iurii Novachynskyi\\anaconda3\\envs\\CAB\\lib\\site-packages\\sklearn\\metrics\\_classification.py:1471: UndefinedMetricWarning: Precision and F-score are ill-defined and being set to 0.0 in labels with no predicted samples. Use `zero_division` parameter to control this behavior.\n",
      "  _warn_prf(average, modifier, msg_start, len(result))\n",
      "c:\\Users\\Iurii Novachynskyi\\anaconda3\\envs\\CAB\\lib\\site-packages\\sklearn\\metrics\\_classification.py:1471: UndefinedMetricWarning: Precision and F-score are ill-defined and being set to 0.0 in labels with no predicted samples. Use `zero_division` parameter to control this behavior.\n",
      "  _warn_prf(average, modifier, msg_start, len(result))\n"
     ]
    },
    {
     "data": {
      "image/png": "[encoded data removed]",
      "text/plain": [
       "<Figure size 800x600 with 2 Axes>"
      ]
     },
     "metadata": {},
     "output_type": "display_data"
    }
   ],
   "source": [
    "# Make predictions for Quality of red wine\n",
    "evaluate_model(red_rf, r_test, Q_test, target_names=[\"high\", \"low\", \"medium\"])\n",
    "cm = confusion_matrix(Q_test, red_rf.predict(r_test))\n",
    "plt.figure(figsize=(8, 6))\n",
    "sns.heatmap(cm, annot=True, fmt=\"d\", cmap=\"rocket_r\", xticklabels=[\"High\", \"Low\", 'Medium'], yticklabels=[\"High\", \"Low\", \"Medium\"])\n",
    "plt.xlabel(\"Predicted\")\n",
    "plt.ylabel(\"True\")\n",
    "plt.title(\"Confusion Matrix for Red wine quality\")\n",
    "plt.show()"
   ]
  },
  {
   "cell_type": "markdown",
   "metadata": {},
   "source": [
    "<span style=\"font-size: larger;\">Task 3. Implementing ML for defining WHITE WINE QUALITY</span>"
   ]
  },
  {
   "cell_type": "code",
   "execution_count": null,
   "metadata": {},
   "outputs": [
    {
     "data": {
      "text/plain": [
       "quality_category\n",
       "2    3078\n",
       "1    1640\n",
       "3     180\n",
       "Name: count, dtype: int64"
      ]
     },
     "execution_count": 24,
     "metadata": {},
     "output_type": "execute_result"
    }
   ],
   "source": [
    "white_wine = pd.read_csv(\"D:\\Data Science CAB\\PJ\\PJ2_Winery\\winequality-white.csv\", sep=';')\n",
    "white_wine['quality_category'] = white_wine['quality'].apply(lambda value: '1' if value <= 5 else '2' if value <= 7 else '3')\n",
    "white_wine['quality_category'].value_counts()"
   ]
  },
  {
   "cell_type": "markdown",
   "metadata": {},
   "source": [
    "Skewness&Kurtosis"
   ]
  },
  {
   "cell_type": "code",
   "execution_count": null,
   "metadata": {},
   "outputs": [
    {
     "data": {
      "text/plain": [
       "'White wine'"
      ]
     },
     "metadata": {},
     "output_type": "display_data"
    },
    {
     "data": {
      "text/plain": [
       "total sulfur dioxide    0.390710\n",
       "pH                      0.457783\n",
       "alcohol                 0.487342\n",
       "fixed acidity           0.647751\n",
       "sulphates               0.977194\n",
       "density                 0.977773\n",
       "residual sugar          1.077094\n",
       "citric acid             1.281920\n",
       "free sulfur dioxide     1.406745\n",
       "volatile acidity        1.576980\n",
       "chlorides               5.023331\n",
       "dtype: float64"
      ]
     },
     "metadata": {},
     "output_type": "display_data"
    }
   ],
   "source": [
    "skewness_ww = white_wine[['fixed acidity', 'volatile acidity', 'citric acid', 'residual sugar', 'chlorides', 'free sulfur dioxide', 'total sulfur dioxide', 'density', 'pH', 'sulphates', 'alcohol']].astype(float).skew()\n",
    "display('White wine', skewness_ww.sort_values())"
   ]
  },
  {
   "cell_type": "code",
   "execution_count": null,
   "metadata": {},
   "outputs": [
    {
     "data": {
      "text/plain": [
       "alcohol                 -0.698425\n",
       "pH                       0.530775\n",
       "total sulfur dioxide     0.571853\n",
       "sulphates                1.590930\n",
       "fixed acidity            2.172178\n",
       "residual sugar           3.469820\n",
       "volatile acidity         5.091626\n",
       "citric acid              6.174901\n",
       "density                  9.793807\n",
       "free sulfur dioxide     11.466342\n",
       "chlorides               37.564600\n",
       "dtype: float64"
      ]
     },
     "metadata": {},
     "output_type": "display_data"
    }
   ],
   "source": [
    "kurtosis_ww = white_wine[['fixed acidity', 'volatile acidity', 'citric acid', 'residual sugar', 'chlorides', 'free sulfur dioxide', 'total sulfur dioxide', 'density', 'pH', 'sulphates', 'alcohol']].astype(float).kurt() \n",
    "display(kurtosis_ww.sort_values())"
   ]
  },
  {
   "cell_type": "code",
   "execution_count": null,
   "metadata": {},
   "outputs": [
    {
     "data": {
      "image/png": "[encoded data removed]",
      "text/plain": [
       "<Figure size 800x600 with 2 Axes>"
      ]
     },
     "metadata": {},
     "output_type": "display_data"
    }
   ],
   "source": [
    "plt.figure(figsize=(8, 6))\n",
    "correlation_quality = white_wine.corr()['quality_category'].drop(['quality_category','quality']).sort_values(ascending=True)\n",
    "sns.heatmap(correlation_quality.to_frame(), annot=True, cmap='coolwarm', vmin=-1, vmax=1)\n",
    "plt.show()"
   ]
  },
  {
   "cell_type": "code",
   "execution_count": null,
   "metadata": {},
   "outputs": [
    {
     "name": "stdout",
     "output_type": "stream",
     "text": [
      "(4898, 5)\n",
      "(4898, 1)\n"
     ]
    }
   ],
   "source": [
    "Quality_white = white_wine[\"quality_category\"].values.reshape(-1, 1)\n",
    "white_wine = white_wine[['volatile acidity', 'chlorides', 'total sulfur dioxide', 'density', 'alcohol']]\n",
    "\n",
    "print(white_wine.shape)\n",
    "print(Quality_white.shape)"
   ]
  },
  {
   "cell_type": "code",
   "execution_count": null,
   "metadata": {},
   "outputs": [
    {
     "data": {
      "text/plain": [
       "Index(['volatile acidity', 'chlorides', 'total sulfur dioxide', 'density',\n",
       "       'alcohol'],\n",
       "      dtype='object')"
      ]
     },
     "execution_count": 27,
     "metadata": {},
     "output_type": "execute_result"
    }
   ],
   "source": [
    "white_wine.columns"
   ]
  },
  {
   "cell_type": "code",
   "execution_count": null,
   "metadata": {},
   "outputs": [],
   "source": [
    "w_train, w_test, Quality_train, Quality_test = train_test_split(white_wine, Quality_white, test_size=0.2, random_state=99)"
   ]
  },
  {
   "cell_type": "code",
   "execution_count": null,
   "metadata": {},
   "outputs": [],
   "source": [
    "#Create a function within many Machine Learning Models\n",
    "def models(X_train,Y_train):\n",
    "  \n",
    "  # Using Logistic Regression Algorithm to the Training Set\n",
    "  from sklearn.linear_model import LogisticRegression\n",
    "  log = LogisticRegression(solver='lbfgs', max_iter=100)\n",
    "  log.fit(X_train, Y_train.ravel())\n",
    "  \n",
    "  # Using Linear Regression Algorithm to the Training Set\n",
    "  linreg = linear_model.LinearRegression()\n",
    "  linreg.fit(X_train, Y_train)\n",
    "\n",
    "  #Using KNeighborsClassifier Method of neighbors class to use Nearest Neighbor algorithm\n",
    "  from sklearn.neighbors import KNeighborsClassifier\n",
    "  knn = KNeighborsClassifier(n_neighbors = 5, metric = 'minkowski', p = 2)\n",
    "  knn.fit(X_train, Y_train)\n",
    "\n",
    "  #Using DecisionTreeClassifier of tree class to use Decision Tree Algorithm\n",
    "  from sklearn.tree import DecisionTreeClassifier\n",
    "  tree = DecisionTreeClassifier(criterion = 'entropy', random_state = 0)\n",
    "  tree.fit(X_train, Y_train.ravel())\n",
    "\n",
    "  #Using RandomForestClassifier method of ensemble class to use Random Forest Classification algorithm\n",
    "  from sklearn.ensemble import RandomForestClassifier\n",
    "  forest = RandomForestClassifier(n_estimators = 10, criterion = 'entropy', random_state = 0)\n",
    "  forest.fit(X_train, Y_train.ravel())\n",
    "  \n",
    "  #print model accuracy on the training data.\n",
    "  print('Logistic Regression Training Accuracy:', (log.score(multi_ww_test, Quality_test))*100)\n",
    "  print('Linear Regression Training Accuracy:', (linreg.score(multi_ww_test, Quality_test))*100)\n",
    "  print('K Nearest Neighbor Training Accuracy:', knn.score(multi_ww_test, Quality_test))\n",
    "  print('Decision Tree Classifier Training Accuracy:', (tree.score(multi_ww_test, Quality_test))*100)\n",
    "  print('Random Forest Classifier Training Accuracy:', (forest.score(multi_ww_test, Quality_test))*100)"
   ]
  },
  {
   "cell_type": "code",
   "execution_count": null,
   "metadata": {},
   "outputs": [
    {
     "name": "stderr",
     "output_type": "stream",
     "text": [
      "c:\\Users\\Iurii Novachynskyi\\anaconda3\\envs\\CAB\\lib\\site-packages\\sklearn\\linear_model\\_logistic.py:460: ConvergenceWarning: lbfgs failed to converge (status=1):\n",
      "STOP: TOTAL NO. of ITERATIONS REACHED LIMIT.\n",
      "\n",
      "Increase the number of iterations (max_iter) or scale the data as shown in:\n",
      "    https://scikit-learn.org/stable/modules/preprocessing.html\n",
      "Please also refer to the documentation for alternative solver options:\n",
      "    https://scikit-learn.org/stable/modules/linear_model.html#logistic-regression\n",
      "  n_iter_i = _check_optimize_result(\n",
      "c:\\Users\\Iurii Novachynskyi\\anaconda3\\envs\\CAB\\lib\\site-packages\\sklearn\\neighbors\\_classification.py:228: DataConversionWarning: A column-vector y was passed when a 1d array was expected. Please change the shape of y to (n_samples,), for example using ravel().\n",
      "  return self._fit(X, y)\n"
     ]
    },
    {
     "name": "stdout",
     "output_type": "stream",
     "text": [
      "Logistic Regression Training Accuracy: 70.40816326530613\n",
      "Linear Regression Training Accuracy: 19.84019395403408\n",
      "K Nearest Neighbor Training Accuracy: 0.6551020408163265\n",
      "Decision Tree Classifier Training Accuracy: 72.44897959183673\n",
      "Random Forest Classifier Training Accuracy: 78.16326530612245\n"
     ]
    }
   ],
   "source": [
    "models(w_train, Quality_train)"
   ]
  },
  {
   "cell_type": "code",
   "execution_count": null,
   "metadata": {},
   "outputs": [
    {
     "name": "stdout",
     "output_type": "stream",
     "text": [
      "Random Forest Classifier Training Accuracy: 79.6938775510204\n"
     ]
    }
   ],
   "source": [
    "white_forest = RandomForestClassifier(n_estimators = 42, criterion = 'entropy', random_state = 0)\n",
    "white_forest.fit(w_train, Quality_train.ravel())\n",
    "print('Random Forest Classifier Training Accuracy:', (white_forest.score(w_test, Quality_test))*100)"
   ]
  },
  {
   "cell_type": "markdown",
   "metadata": {},
   "source": [
    "<details>\n",
    "<summary>Before GridSearchCV</summary>\n",
    "Best Parameters: {'max_depth': 30, 'min_samples_leaf': 2, 'min_samples_split': 2, 'n_estimators': 200}\n",
    "Best Training Accuracy: 0.6740643000495219\n",
    "</details>"
   ]
  },
  {
   "cell_type": "code",
   "execution_count": null,
   "metadata": {},
   "outputs": [
    {
     "name": "stdout",
     "output_type": "stream",
     "text": [
      "Best Parameters: {'bootstrap': True, 'class_weight': None, 'criterion': 'entropy', 'max_depth': None, 'max_features': None, 'min_samples_leaf': 1, 'min_samples_split': 2, 'min_weight_fraction_leaf': 0.0, 'n_estimators': 200}\n",
      "Best Training Accuracy: 0.7822845804988662\n"
     ]
    }
   ],
   "source": [
    "#GridSearchCV no need to run again. Decode if necessary\n",
    "param_grid = {\n",
    "    'n_estimators': [200], # https://scikit-learn.org/stable/modules/generated/sklearn.ensemble.RandomForestClassifier.html\n",
    "    'max_depth': [None], #, 10, 20, 30],  \n",
    "    'min_samples_split': [2], \n",
    "    'min_samples_leaf': [1],  \n",
    "    'criterion': ['entropy'],\n",
    "    'max_features': [None],\n",
    "    'bootstrap': [True, False],\n",
    "    'class_weight': [None, 'balanced', {0: 1, 1: 2}],\n",
    "    'min_weight_fraction_leaf': [0.0, 0.1, 0.2],\n",
    "}\n",
    "#grid_search = GridSearchCV(estimator=white_forest, param_grid=param_grid, cv=5, n_jobs=-1, verbose=2, scoring='accuracy')\n",
    "#grid_search.fit(w_train, Quality_train)\n",
    "best_params = grid_search.best_params_\n",
    "print(\"Best Parameters:\", best_params)\n",
    "best_estimator = grid_search.best_estimator_\n",
    "best_score = grid_search.best_score_\n",
    "print(\"Best Training Accuracy:\", best_score)"
   ]
  },
  {
   "cell_type": "code",
   "execution_count": null,
   "metadata": {},
   "outputs": [
    {
     "name": "stdout",
     "output_type": "stream",
     "text": [
      "We probably have White wine with : Medium Quality\n",
      " Our characteristics are: volatile acidity: 0.27, chlorides: 0.045, total sulfur dioxide: 170.0  \n",
      "density: 1.001, alcohol: 8.8\n",
      "Random Forest Classifier Training Accuracy:79.69%\n"
     ]
    },
    {
     "name": "stderr",
     "output_type": "stream",
     "text": [
      "c:\\Users\\Iurii Novachynskyi\\anaconda3\\envs\\CAB\\lib\\site-packages\\sklearn\\base.py:464: UserWarning: X does not have valid feature names, but RandomForestClassifier was fitted with feature names\n",
      "  warnings.warn(\n"
     ]
    }
   ],
   "source": [
    "#manual predictions\n",
    "quality_mapping = {'1':\"Low Quality\", '2': \"Medium Quality\", '3': \"High Quality\"}\n",
    "# Enter the attributes ['volatile acidity', 'chlorides', 'total sulfur dioxide', 'density', 'alcohol']\n",
    "predictions_ww = [0.27, 0.045, 170.0, 1.00100, 8.8]\n",
    "pred_result = white_forest.predict([predictions_ww]) \n",
    "predicted_quality_ww = quality_mapping.get(pred_result[0], \"Unknown Quality\")\n",
    "\n",
    "print(f\"We probably have White wine with : {predicted_quality_ww}\"\n",
    "      f\"\\n Our characteristics are: volatile acidity: {predictions_ww[0]}, chlorides: {predictions_ww[1]}, total sulfur dioxide: {predictions_ww[2]}  \"\n",
    "      f\"\\ndensity: {predictions_ww[3]}, alcohol: {predictions_ww[4]}\"\n",
    "      f\"\\nRandom Forest Classifier Training Accuracy:{white_forest.score(w_test, Quality_test) * 100:.2f}%\")"
   ]
  },
  {
   "cell_type": "code",
   "execution_count": null,
   "metadata": {},
   "outputs": [
    {
     "name": "stdout",
     "output_type": "stream",
     "text": [
      "Confusion Matrix:\n",
      "[[226 113   0]\n",
      " [ 69 542   1]\n",
      " [  1  15  13]]\n",
      "Classification Report:\n",
      "              precision    recall  f1-score   support\n",
      "\n",
      "         low       0.76      0.67      0.71       339\n",
      "      medium       0.81      0.89      0.85       612\n",
      "        high       0.93      0.45      0.60        29\n",
      "\n",
      "    accuracy                           0.80       980\n",
      "   macro avg       0.83      0.67      0.72       980\n",
      "weighted avg       0.80      0.80      0.79       980\n",
      "\n",
      "Cohen-Kappa score: 0.5662463023509263\n"
     ]
    },
    {
     "data": {
      "image/png": "[encoded data removed]",
      "text/plain": [
       "<Figure size 800x600 with 2 Axes>"
      ]
     },
     "metadata": {},
     "output_type": "display_data"
    }
   ],
   "source": [
    "#Make predictions for Quality of white wine\n",
    "evaluate_model(white_forest, w_test, Quality_test, [\"low\", \"medium\", \"high\"])\n",
    "cm = confusion_matrix(Quality_test, white_forest.predict(w_test))\n",
    "plt.figure(figsize=(8, 6))\n",
    "sns.heatmap(cm, annot=True, fmt=\"d\", cmap=\"rocket_r\", xticklabels=[\"low\", \"medium\", \"high\"], yticklabels=[\"low\", \"medium\", \"high\"])\n",
    "plt.xlabel(\"Predicted\"), plt.ylabel(\"True\")\n",
    "plt.title(\"Confusion Matrix for White wine quality\")\n",
    "plt.show()"
   ]
  },
  {
   "cell_type": "code",
   "execution_count": null,
   "metadata": {},
   "outputs": [],
   "source": [
    "w_train, w_test, Quality_train, Quality_test = train_test_split(white_wine, Quality_white, test_size=0.2, random_state=99)"
   ]
  },
  {
   "cell_type": "markdown",
   "metadata": {},
   "source": [
    "Prices_dataset"
   ]
  },
  {
   "cell_type": "code",
   "execution_count": 25,
   "metadata": {},
   "outputs": [],
   "source": [
    "prices = pd.read_csv(\"D:\\Data Science CAB\\PJ\\PJ2_Winery\\wine_sales_data.csv\")"
   ]
  },
  {
   "cell_type": "code",
   "execution_count": 26,
   "metadata": {},
   "outputs": [],
   "source": [
    "prices = prices.drop(['description', 'region_1','region_2', 'Unnamed: 0'], axis=1)\n",
    "prices.dropna(subset = ['price'], inplace=True)"
   ]
  },
  {
   "cell_type": "code",
   "execution_count": 38,
   "metadata": {},
   "outputs": [
    {
     "data": {
      "text/html": [
       "<div>\n",
       "<style scoped>\n",
       "    .dataframe tbody tr th:only-of-type {\n",
       "        vertical-align: middle;\n",
       "    }\n",
       "\n",
       "    .dataframe tbody tr th {\n",
       "        vertical-align: top;\n",
       "    }\n",
       "\n",
       "    .dataframe thead th {\n",
       "        text-align: right;\n",
       "    }\n",
       "</style>\n",
       "<table border=\"1\" class=\"dataframe\">\n",
       "  <thead>\n",
       "    <tr style=\"text-align: right;\">\n",
       "      <th></th>\n",
       "      <th>country</th>\n",
       "      <th>designation</th>\n",
       "      <th>points</th>\n",
       "      <th>price</th>\n",
       "      <th>province</th>\n",
       "      <th>variety</th>\n",
       "      <th>winery</th>\n",
       "    </tr>\n",
       "  </thead>\n",
       "  <tbody>\n",
       "    <tr>\n",
       "      <th>277</th>\n",
       "      <td>Portugal</td>\n",
       "      <td>Portal do Fidalgo</td>\n",
       "      <td>92</td>\n",
       "      <td>35.0</td>\n",
       "      <td>Vinho Verde</td>\n",
       "      <td>Alvarinho</td>\n",
       "      <td>Provam</td>\n",
       "    </tr>\n",
       "    <tr>\n",
       "      <th>993</th>\n",
       "      <td>Portugal</td>\n",
       "      <td>Campelo</td>\n",
       "      <td>85</td>\n",
       "      <td>10.0</td>\n",
       "      <td>Vinho Verde</td>\n",
       "      <td>Portuguese White</td>\n",
       "      <td>Caves Campelo</td>\n",
       "    </tr>\n",
       "    <tr>\n",
       "      <th>994</th>\n",
       "      <td>Portugal</td>\n",
       "      <td>Miranda</td>\n",
       "      <td>85</td>\n",
       "      <td>9.0</td>\n",
       "      <td>Vinho Verde</td>\n",
       "      <td>Portuguese White</td>\n",
       "      <td>Caves Campelo</td>\n",
       "    </tr>\n",
       "    <tr>\n",
       "      <th>1558</th>\n",
       "      <td>Portugal</td>\n",
       "      <td>Campelo</td>\n",
       "      <td>84</td>\n",
       "      <td>10.0</td>\n",
       "      <td>Vinho Verde</td>\n",
       "      <td>Rosé</td>\n",
       "      <td>Caves Campelo</td>\n",
       "    </tr>\n",
       "    <tr>\n",
       "      <th>1559</th>\n",
       "      <td>Portugal</td>\n",
       "      <td>Casal da Seara</td>\n",
       "      <td>84</td>\n",
       "      <td>10.0</td>\n",
       "      <td>Vinho Verde</td>\n",
       "      <td>Portuguese White</td>\n",
       "      <td>Caves Campelo</td>\n",
       "    </tr>\n",
       "    <tr>\n",
       "      <th>1694</th>\n",
       "      <td>Portugal</td>\n",
       "      <td>Torre de Vila Nova</td>\n",
       "      <td>88</td>\n",
       "      <td>12.0</td>\n",
       "      <td>Vinho Verde</td>\n",
       "      <td>Portuguese White</td>\n",
       "      <td>Casa de Vila Nova</td>\n",
       "    </tr>\n",
       "    <tr>\n",
       "      <th>1841</th>\n",
       "      <td>Portugal</td>\n",
       "      <td>Campelo Tinto</td>\n",
       "      <td>84</td>\n",
       "      <td>10.0</td>\n",
       "      <td>Vinho Verde</td>\n",
       "      <td>Portuguese Red</td>\n",
       "      <td>Caves Campelo</td>\n",
       "    </tr>\n",
       "    <tr>\n",
       "      <th>2136</th>\n",
       "      <td>Portugal</td>\n",
       "      <td>Três Castas</td>\n",
       "      <td>82</td>\n",
       "      <td>10.0</td>\n",
       "      <td>Vinho Verde</td>\n",
       "      <td>Portuguese White</td>\n",
       "      <td>Caves Campelo</td>\n",
       "    </tr>\n",
       "    <tr>\n",
       "      <th>2923</th>\n",
       "      <td>Portugal</td>\n",
       "      <td>NaN</td>\n",
       "      <td>90</td>\n",
       "      <td>19.0</td>\n",
       "      <td>Vinho Verde</td>\n",
       "      <td>Alvarinho</td>\n",
       "      <td>Quinta de Santiago</td>\n",
       "    </tr>\n",
       "    <tr>\n",
       "      <th>2947</th>\n",
       "      <td>Portugal</td>\n",
       "      <td>Dom Diogo</td>\n",
       "      <td>87</td>\n",
       "      <td>13.0</td>\n",
       "      <td>Vinho Verde</td>\n",
       "      <td>Arinto</td>\n",
       "      <td>Quinta da Raza</td>\n",
       "    </tr>\n",
       "    <tr>\n",
       "      <th>2962</th>\n",
       "      <td>Portugal</td>\n",
       "      <td>Branco</td>\n",
       "      <td>87</td>\n",
       "      <td>12.0</td>\n",
       "      <td>Vinho Verde</td>\n",
       "      <td>Portuguese White</td>\n",
       "      <td>Casa do Valle</td>\n",
       "    </tr>\n",
       "    <tr>\n",
       "      <th>5205</th>\n",
       "      <td>Portugal</td>\n",
       "      <td>Hera Grande Escolha</td>\n",
       "      <td>86</td>\n",
       "      <td>10.0</td>\n",
       "      <td>Vinho Verde</td>\n",
       "      <td>Loureiro</td>\n",
       "      <td>Adega Cooperativa Ponte de Barca</td>\n",
       "    </tr>\n",
       "    <tr>\n",
       "      <th>5800</th>\n",
       "      <td>Portugal</td>\n",
       "      <td>Las Lilas</td>\n",
       "      <td>85</td>\n",
       "      <td>9.0</td>\n",
       "      <td>Vinho Verde</td>\n",
       "      <td>Portuguese White</td>\n",
       "      <td>Adega Cooperativa Ponte de Barca</td>\n",
       "    </tr>\n",
       "    <tr>\n",
       "      <th>6440</th>\n",
       "      <td>Portugal</td>\n",
       "      <td>Paço de São Lourenço Escolha</td>\n",
       "      <td>85</td>\n",
       "      <td>12.0</td>\n",
       "      <td>Vinho Verde</td>\n",
       "      <td>Portuguese White</td>\n",
       "      <td>Solar de Pinheiro</td>\n",
       "    </tr>\n",
       "    <tr>\n",
       "      <th>6621</th>\n",
       "      <td>Portugal</td>\n",
       "      <td>NaN</td>\n",
       "      <td>88</td>\n",
       "      <td>21.0</td>\n",
       "      <td>Vinho Verde</td>\n",
       "      <td>Alvarinho</td>\n",
       "      <td>Quinta de Soalheiro</td>\n",
       "    </tr>\n",
       "    <tr>\n",
       "      <th>6758</th>\n",
       "      <td>Portugal</td>\n",
       "      <td>Raza</td>\n",
       "      <td>84</td>\n",
       "      <td>10.0</td>\n",
       "      <td>Vinho Verde</td>\n",
       "      <td>Portuguese White</td>\n",
       "      <td>Quinta da Raza</td>\n",
       "    </tr>\n",
       "    <tr>\n",
       "      <th>6819</th>\n",
       "      <td>Portugal</td>\n",
       "      <td>NaN</td>\n",
       "      <td>88</td>\n",
       "      <td>21.0</td>\n",
       "      <td>Vinho Verde</td>\n",
       "      <td>Alvarinho</td>\n",
       "      <td>Quinta de Soalheiro</td>\n",
       "    </tr>\n",
       "    <tr>\n",
       "      <th>7444</th>\n",
       "      <td>Portugal</td>\n",
       "      <td>Hera</td>\n",
       "      <td>83</td>\n",
       "      <td>9.0</td>\n",
       "      <td>Vinho Verde</td>\n",
       "      <td>Rosé</td>\n",
       "      <td>Adega Cooperativa Ponte de Barca</td>\n",
       "    </tr>\n",
       "    <tr>\n",
       "      <th>7464</th>\n",
       "      <td>Portugal</td>\n",
       "      <td>Escolha</td>\n",
       "      <td>83</td>\n",
       "      <td>9.0</td>\n",
       "      <td>Vinho Verde</td>\n",
       "      <td>Portuguese White</td>\n",
       "      <td>Adega Cooperativa Ponte de Barca</td>\n",
       "    </tr>\n",
       "    <tr>\n",
       "      <th>7567</th>\n",
       "      <td>Portugal</td>\n",
       "      <td>Ponte</td>\n",
       "      <td>85</td>\n",
       "      <td>10.0</td>\n",
       "      <td>Vinho Verde</td>\n",
       "      <td>Loureiro</td>\n",
       "      <td>Adega Cooperativa Ponte de Lima</td>\n",
       "    </tr>\n",
       "    <tr>\n",
       "      <th>7775</th>\n",
       "      <td>Portugal</td>\n",
       "      <td>NaN</td>\n",
       "      <td>82</td>\n",
       "      <td>9.0</td>\n",
       "      <td>Vinho Verde</td>\n",
       "      <td>Portuguese White</td>\n",
       "      <td>Vidigal</td>\n",
       "    </tr>\n",
       "    <tr>\n",
       "      <th>8726</th>\n",
       "      <td>Portugal</td>\n",
       "      <td>Arca Nova Colheita</td>\n",
       "      <td>86</td>\n",
       "      <td>12.0</td>\n",
       "      <td>Vinho Verde</td>\n",
       "      <td>Loureiro</td>\n",
       "      <td>Quinta das Arcas</td>\n",
       "    </tr>\n",
       "    <tr>\n",
       "      <th>8889</th>\n",
       "      <td>Portugal</td>\n",
       "      <td>Adamado</td>\n",
       "      <td>84</td>\n",
       "      <td>10.0</td>\n",
       "      <td>Vinho Verde</td>\n",
       "      <td>Portuguese White</td>\n",
       "      <td>Adega Cooperativa Ponte de Lima</td>\n",
       "    </tr>\n",
       "    <tr>\n",
       "      <th>8890</th>\n",
       "      <td>Portugal</td>\n",
       "      <td>Encostas do Lima</td>\n",
       "      <td>84</td>\n",
       "      <td>10.0</td>\n",
       "      <td>Vinho Verde</td>\n",
       "      <td>Portuguese White</td>\n",
       "      <td>Adega Cooperativa Ponte de Lima</td>\n",
       "    </tr>\n",
       "    <tr>\n",
       "      <th>9664</th>\n",
       "      <td>Portugal</td>\n",
       "      <td>NaN</td>\n",
       "      <td>83</td>\n",
       "      <td>8.0</td>\n",
       "      <td>Vinho Verde</td>\n",
       "      <td>Rosé</td>\n",
       "      <td>Mapreco</td>\n",
       "    </tr>\n",
       "    <tr>\n",
       "      <th>10001</th>\n",
       "      <td>Portugal</td>\n",
       "      <td>NaN</td>\n",
       "      <td>80</td>\n",
       "      <td>8.0</td>\n",
       "      <td>Vinho Verde</td>\n",
       "      <td>Portuguese White</td>\n",
       "      <td>Mapreco</td>\n",
       "    </tr>\n",
       "    <tr>\n",
       "      <th>10400</th>\n",
       "      <td>Portugal</td>\n",
       "      <td>Miranda</td>\n",
       "      <td>85</td>\n",
       "      <td>10.0</td>\n",
       "      <td>Vinho Verde</td>\n",
       "      <td>Portuguese White</td>\n",
       "      <td>Campelo</td>\n",
       "    </tr>\n",
       "    <tr>\n",
       "      <th>10626</th>\n",
       "      <td>Portugal</td>\n",
       "      <td>Casal da Seara</td>\n",
       "      <td>84</td>\n",
       "      <td>6.0</td>\n",
       "      <td>Vinho Verde</td>\n",
       "      <td>Portuguese White</td>\n",
       "      <td>Campelo</td>\n",
       "    </tr>\n",
       "    <tr>\n",
       "      <th>10640</th>\n",
       "      <td>Portugal</td>\n",
       "      <td>Lagar</td>\n",
       "      <td>84</td>\n",
       "      <td>12.0</td>\n",
       "      <td>Vinho Verde</td>\n",
       "      <td>Rosé</td>\n",
       "      <td>Quintas de Melgaço</td>\n",
       "    </tr>\n",
       "    <tr>\n",
       "      <th>10973</th>\n",
       "      <td>Portugal</td>\n",
       "      <td>NaN</td>\n",
       "      <td>83</td>\n",
       "      <td>10.0</td>\n",
       "      <td>Vinho Verde</td>\n",
       "      <td>Portuguese White</td>\n",
       "      <td>Campelo</td>\n",
       "    </tr>\n",
       "    <tr>\n",
       "      <th>11269</th>\n",
       "      <td>Portugal</td>\n",
       "      <td>NaN</td>\n",
       "      <td>82</td>\n",
       "      <td>10.0</td>\n",
       "      <td>Vinho Verde</td>\n",
       "      <td>Portuguese Red</td>\n",
       "      <td>Campelo</td>\n",
       "    </tr>\n",
       "    <tr>\n",
       "      <th>11278</th>\n",
       "      <td>Portugal</td>\n",
       "      <td>NaN</td>\n",
       "      <td>82</td>\n",
       "      <td>10.0</td>\n",
       "      <td>Vinho Verde</td>\n",
       "      <td>Rosé</td>\n",
       "      <td>Campelo</td>\n",
       "    </tr>\n",
       "    <tr>\n",
       "      <th>12740</th>\n",
       "      <td>Portugal</td>\n",
       "      <td>Grande Escolha</td>\n",
       "      <td>91</td>\n",
       "      <td>17.0</td>\n",
       "      <td>Vinho Verde</td>\n",
       "      <td>Portuguese White</td>\n",
       "      <td>Casa do Valle</td>\n",
       "    </tr>\n",
       "    <tr>\n",
       "      <th>15734</th>\n",
       "      <td>Portugal</td>\n",
       "      <td>Fonte</td>\n",
       "      <td>85</td>\n",
       "      <td>8.0</td>\n",
       "      <td>Vinho Verde</td>\n",
       "      <td>Portuguese White</td>\n",
       "      <td>Aveleda</td>\n",
       "    </tr>\n",
       "    <tr>\n",
       "      <th>19211</th>\n",
       "      <td>Portugal</td>\n",
       "      <td>Dócil</td>\n",
       "      <td>90</td>\n",
       "      <td>20.0</td>\n",
       "      <td>Vinho Verde</td>\n",
       "      <td>Portuguese White</td>\n",
       "      <td>Niepoort</td>\n",
       "    </tr>\n",
       "    <tr>\n",
       "      <th>19673</th>\n",
       "      <td>Portugal</td>\n",
       "      <td>Via Latina</td>\n",
       "      <td>88</td>\n",
       "      <td>13.0</td>\n",
       "      <td>Vinho Verde</td>\n",
       "      <td>Alvarinho</td>\n",
       "      <td>Vercoope</td>\n",
       "    </tr>\n",
       "    <tr>\n",
       "      <th>19915</th>\n",
       "      <td>Portugal</td>\n",
       "      <td>NaN</td>\n",
       "      <td>87</td>\n",
       "      <td>15.0</td>\n",
       "      <td>Vinho Verde</td>\n",
       "      <td>Loureiro</td>\n",
       "      <td>Quinta do Tamariz</td>\n",
       "    </tr>\n",
       "    <tr>\n",
       "      <th>20099</th>\n",
       "      <td>Portugal</td>\n",
       "      <td>Via Latina</td>\n",
       "      <td>86</td>\n",
       "      <td>6.0</td>\n",
       "      <td>Vinho Verde</td>\n",
       "      <td>Loureiro</td>\n",
       "      <td>Vercoope</td>\n",
       "    </tr>\n",
       "    <tr>\n",
       "      <th>20274</th>\n",
       "      <td>Portugal</td>\n",
       "      <td>Hera Grande Escolha</td>\n",
       "      <td>86</td>\n",
       "      <td>9.0</td>\n",
       "      <td>Vinho Verde</td>\n",
       "      <td>Portuguese White</td>\n",
       "      <td>Adega Cooperativa Ponte de Barca</td>\n",
       "    </tr>\n",
       "    <tr>\n",
       "      <th>20457</th>\n",
       "      <td>Portugal</td>\n",
       "      <td>Terras de Felgueiras</td>\n",
       "      <td>85</td>\n",
       "      <td>6.0</td>\n",
       "      <td>Vinho Verde</td>\n",
       "      <td>Portuguese White</td>\n",
       "      <td>Vercoope</td>\n",
       "    </tr>\n",
       "    <tr>\n",
       "      <th>20458</th>\n",
       "      <td>Portugal</td>\n",
       "      <td>Estreia Grande Escolha</td>\n",
       "      <td>85</td>\n",
       "      <td>13.0</td>\n",
       "      <td>Vinho Verde</td>\n",
       "      <td>Alvarinho</td>\n",
       "      <td>Viniverde</td>\n",
       "    </tr>\n",
       "    <tr>\n",
       "      <th>20550</th>\n",
       "      <td>Portugal</td>\n",
       "      <td>Cape Roca Fisherman</td>\n",
       "      <td>85</td>\n",
       "      <td>11.0</td>\n",
       "      <td>Vinho Verde</td>\n",
       "      <td>Portuguese White</td>\n",
       "      <td>Casca Wines</td>\n",
       "    </tr>\n",
       "    <tr>\n",
       "      <th>20554</th>\n",
       "      <td>Portugal</td>\n",
       "      <td>Via Latina</td>\n",
       "      <td>85</td>\n",
       "      <td>6.0</td>\n",
       "      <td>Vinho Verde</td>\n",
       "      <td>Portuguese White</td>\n",
       "      <td>Vercoope</td>\n",
       "    </tr>\n",
       "    <tr>\n",
       "      <th>20579</th>\n",
       "      <td>Portugal</td>\n",
       "      <td>Pavão</td>\n",
       "      <td>84</td>\n",
       "      <td>6.0</td>\n",
       "      <td>Vinho Verde</td>\n",
       "      <td>Portuguese White</td>\n",
       "      <td>Vercoope</td>\n",
       "    </tr>\n",
       "    <tr>\n",
       "      <th>20610</th>\n",
       "      <td>Portugal</td>\n",
       "      <td>Estreia Grande Escolha</td>\n",
       "      <td>84</td>\n",
       "      <td>9.0</td>\n",
       "      <td>Vinho Verde</td>\n",
       "      <td>Loureiro</td>\n",
       "      <td>Viniverde</td>\n",
       "    </tr>\n",
       "    <tr>\n",
       "      <th>20613</th>\n",
       "      <td>Portugal</td>\n",
       "      <td>Hera</td>\n",
       "      <td>84</td>\n",
       "      <td>7.0</td>\n",
       "      <td>Vinho Verde</td>\n",
       "      <td>Portuguese White</td>\n",
       "      <td>Adega Cooperativa Ponte de Barca</td>\n",
       "    </tr>\n",
       "    <tr>\n",
       "      <th>20694</th>\n",
       "      <td>Portugal</td>\n",
       "      <td>Estreia</td>\n",
       "      <td>83</td>\n",
       "      <td>8.0</td>\n",
       "      <td>Vinho Verde</td>\n",
       "      <td>Portuguese White</td>\n",
       "      <td>Viniverde</td>\n",
       "    </tr>\n",
       "    <tr>\n",
       "      <th>20697</th>\n",
       "      <td>Portugal</td>\n",
       "      <td>Hera</td>\n",
       "      <td>83</td>\n",
       "      <td>7.0</td>\n",
       "      <td>Vinho Verde</td>\n",
       "      <td>Rosé</td>\n",
       "      <td>Adega Cooperativa Ponte de Barca</td>\n",
       "    </tr>\n",
       "    <tr>\n",
       "      <th>20814</th>\n",
       "      <td>Portugal</td>\n",
       "      <td>Estreia</td>\n",
       "      <td>80</td>\n",
       "      <td>8.0</td>\n",
       "      <td>Vinho Verde</td>\n",
       "      <td>Rosé</td>\n",
       "      <td>Viniverde</td>\n",
       "    </tr>\n",
       "    <tr>\n",
       "      <th>20911</th>\n",
       "      <td>Portugal</td>\n",
       "      <td>Monte Cascas Colheita</td>\n",
       "      <td>88</td>\n",
       "      <td>16.0</td>\n",
       "      <td>Vinho Verde</td>\n",
       "      <td>Portuguese White</td>\n",
       "      <td>Casca Wines</td>\n",
       "    </tr>\n",
       "  </tbody>\n",
       "</table>\n",
       "</div>"
      ],
      "text/plain": [
       "        country                   designation  points  price     province  \\\n",
       "277    Portugal             Portal do Fidalgo      92   35.0  Vinho Verde   \n",
       "993    Portugal                       Campelo      85   10.0  Vinho Verde   \n",
       "994    Portugal                       Miranda      85    9.0  Vinho Verde   \n",
       "1558   Portugal                       Campelo      84   10.0  Vinho Verde   \n",
       "1559   Portugal                Casal da Seara      84   10.0  Vinho Verde   \n",
       "1694   Portugal            Torre de Vila Nova      88   12.0  Vinho Verde   \n",
       "1841   Portugal                 Campelo Tinto      84   10.0  Vinho Verde   \n",
       "2136   Portugal                   Três Castas      82   10.0  Vinho Verde   \n",
       "2923   Portugal                           NaN      90   19.0  Vinho Verde   \n",
       "2947   Portugal                     Dom Diogo      87   13.0  Vinho Verde   \n",
       "2962   Portugal                        Branco      87   12.0  Vinho Verde   \n",
       "5205   Portugal           Hera Grande Escolha      86   10.0  Vinho Verde   \n",
       "5800   Portugal                     Las Lilas      85    9.0  Vinho Verde   \n",
       "6440   Portugal  Paço de São Lourenço Escolha      85   12.0  Vinho Verde   \n",
       "6621   Portugal                           NaN      88   21.0  Vinho Verde   \n",
       "6758   Portugal                          Raza      84   10.0  Vinho Verde   \n",
       "6819   Portugal                           NaN      88   21.0  Vinho Verde   \n",
       "7444   Portugal                          Hera      83    9.0  Vinho Verde   \n",
       "7464   Portugal                       Escolha      83    9.0  Vinho Verde   \n",
       "7567   Portugal                         Ponte      85   10.0  Vinho Verde   \n",
       "7775   Portugal                           NaN      82    9.0  Vinho Verde   \n",
       "8726   Portugal            Arca Nova Colheita      86   12.0  Vinho Verde   \n",
       "8889   Portugal                       Adamado      84   10.0  Vinho Verde   \n",
       "8890   Portugal              Encostas do Lima      84   10.0  Vinho Verde   \n",
       "9664   Portugal                           NaN      83    8.0  Vinho Verde   \n",
       "10001  Portugal                           NaN      80    8.0  Vinho Verde   \n",
       "10400  Portugal                       Miranda      85   10.0  Vinho Verde   \n",
       "10626  Portugal                Casal da Seara      84    6.0  Vinho Verde   \n",
       "10640  Portugal                         Lagar      84   12.0  Vinho Verde   \n",
       "10973  Portugal                           NaN      83   10.0  Vinho Verde   \n",
       "11269  Portugal                           NaN      82   10.0  Vinho Verde   \n",
       "11278  Portugal                           NaN      82   10.0  Vinho Verde   \n",
       "12740  Portugal                Grande Escolha      91   17.0  Vinho Verde   \n",
       "15734  Portugal                         Fonte      85    8.0  Vinho Verde   \n",
       "19211  Portugal                         Dócil      90   20.0  Vinho Verde   \n",
       "19673  Portugal                    Via Latina      88   13.0  Vinho Verde   \n",
       "19915  Portugal                           NaN      87   15.0  Vinho Verde   \n",
       "20099  Portugal                    Via Latina      86    6.0  Vinho Verde   \n",
       "20274  Portugal           Hera Grande Escolha      86    9.0  Vinho Verde   \n",
       "20457  Portugal          Terras de Felgueiras      85    6.0  Vinho Verde   \n",
       "20458  Portugal        Estreia Grande Escolha      85   13.0  Vinho Verde   \n",
       "20550  Portugal           Cape Roca Fisherman      85   11.0  Vinho Verde   \n",
       "20554  Portugal                    Via Latina      85    6.0  Vinho Verde   \n",
       "20579  Portugal                         Pavão      84    6.0  Vinho Verde   \n",
       "20610  Portugal        Estreia Grande Escolha      84    9.0  Vinho Verde   \n",
       "20613  Portugal                          Hera      84    7.0  Vinho Verde   \n",
       "20694  Portugal                       Estreia      83    8.0  Vinho Verde   \n",
       "20697  Portugal                          Hera      83    7.0  Vinho Verde   \n",
       "20814  Portugal                       Estreia      80    8.0  Vinho Verde   \n",
       "20911  Portugal         Monte Cascas Colheita      88   16.0  Vinho Verde   \n",
       "\n",
       "                variety                            winery  \n",
       "277           Alvarinho                            Provam  \n",
       "993    Portuguese White                     Caves Campelo  \n",
       "994    Portuguese White                     Caves Campelo  \n",
       "1558               Rosé                     Caves Campelo  \n",
       "1559   Portuguese White                     Caves Campelo  \n",
       "1694   Portuguese White                 Casa de Vila Nova  \n",
       "1841     Portuguese Red                     Caves Campelo  \n",
       "2136   Portuguese White                     Caves Campelo  \n",
       "2923          Alvarinho                Quinta de Santiago  \n",
       "2947             Arinto                    Quinta da Raza  \n",
       "2962   Portuguese White                     Casa do Valle  \n",
       "5205           Loureiro  Adega Cooperativa Ponte de Barca  \n",
       "5800   Portuguese White  Adega Cooperativa Ponte de Barca  \n",
       "6440   Portuguese White                 Solar de Pinheiro  \n",
       "6621          Alvarinho               Quinta de Soalheiro  \n",
       "6758   Portuguese White                    Quinta da Raza  \n",
       "6819          Alvarinho               Quinta de Soalheiro  \n",
       "7444               Rosé  Adega Cooperativa Ponte de Barca  \n",
       "7464   Portuguese White  Adega Cooperativa Ponte de Barca  \n",
       "7567           Loureiro   Adega Cooperativa Ponte de Lima  \n",
       "7775   Portuguese White                           Vidigal  \n",
       "8726           Loureiro                  Quinta das Arcas  \n",
       "8889   Portuguese White   Adega Cooperativa Ponte de Lima  \n",
       "8890   Portuguese White   Adega Cooperativa Ponte de Lima  \n",
       "9664               Rosé                           Mapreco  \n",
       "10001  Portuguese White                           Mapreco  \n",
       "10400  Portuguese White                           Campelo  \n",
       "10626  Portuguese White                           Campelo  \n",
       "10640              Rosé                Quintas de Melgaço  \n",
       "10973  Portuguese White                           Campelo  \n",
       "11269    Portuguese Red                           Campelo  \n",
       "11278              Rosé                           Campelo  \n",
       "12740  Portuguese White                     Casa do Valle  \n",
       "15734  Portuguese White                           Aveleda  \n",
       "19211  Portuguese White                          Niepoort  \n",
       "19673         Alvarinho                          Vercoope  \n",
       "19915          Loureiro                 Quinta do Tamariz  \n",
       "20099          Loureiro                          Vercoope  \n",
       "20274  Portuguese White  Adega Cooperativa Ponte de Barca  \n",
       "20457  Portuguese White                          Vercoope  \n",
       "20458         Alvarinho                         Viniverde  \n",
       "20550  Portuguese White                       Casca Wines  \n",
       "20554  Portuguese White                          Vercoope  \n",
       "20579  Portuguese White                          Vercoope  \n",
       "20610          Loureiro                         Viniverde  \n",
       "20613  Portuguese White  Adega Cooperativa Ponte de Barca  \n",
       "20694  Portuguese White                         Viniverde  \n",
       "20697              Rosé  Adega Cooperativa Ponte de Barca  \n",
       "20814              Rosé                         Viniverde  \n",
       "20911  Portuguese White                       Casca Wines  "
      ]
     },
     "metadata": {},
     "output_type": "display_data"
    }
   ],
   "source": [
    "display(prices[prices['province'] == 'Vinho Verde'].head(50))"
   ]
  },
  {
   "cell_type": "code",
   "execution_count": 27,
   "metadata": {},
   "outputs": [
    {
     "name": "stdout",
     "output_type": "stream",
     "text": [
      "<class 'pandas.core.frame.DataFrame'>\n",
      "Index: 137235 entries, 0 to 150929\n",
      "Data columns (total 7 columns):\n",
      " #   Column       Non-Null Count   Dtype  \n",
      "---  ------       --------------   -----  \n",
      " 0   country      137230 non-null  object \n",
      " 1   designation  94924 non-null   object \n",
      " 2   points       137235 non-null  int64  \n",
      " 3   price        137235 non-null  float64\n",
      " 4   province     137230 non-null  object \n",
      " 5   variety      137235 non-null  object \n",
      " 6   winery       137235 non-null  object \n",
      "dtypes: float64(1), int64(1), object(5)\n",
      "memory usage: 8.4+ MB\n"
     ]
    },
    {
     "data": {
      "text/html": [
       "<div>\n",
       "<style scoped>\n",
       "    .dataframe tbody tr th:only-of-type {\n",
       "        vertical-align: middle;\n",
       "    }\n",
       "\n",
       "    .dataframe tbody tr th {\n",
       "        vertical-align: top;\n",
       "    }\n",
       "\n",
       "    .dataframe thead th {\n",
       "        text-align: right;\n",
       "    }\n",
       "</style>\n",
       "<table border=\"1\" class=\"dataframe\">\n",
       "  <thead>\n",
       "    <tr style=\"text-align: right;\">\n",
       "      <th></th>\n",
       "      <th>points</th>\n",
       "      <th>price</th>\n",
       "    </tr>\n",
       "  </thead>\n",
       "  <tbody>\n",
       "    <tr>\n",
       "      <th>count</th>\n",
       "      <td>137235.000000</td>\n",
       "      <td>137235.000000</td>\n",
       "    </tr>\n",
       "    <tr>\n",
       "      <th>mean</th>\n",
       "      <td>87.787919</td>\n",
       "      <td>33.131482</td>\n",
       "    </tr>\n",
       "    <tr>\n",
       "      <th>std</th>\n",
       "      <td>3.221680</td>\n",
       "      <td>36.322536</td>\n",
       "    </tr>\n",
       "    <tr>\n",
       "      <th>min</th>\n",
       "      <td>80.000000</td>\n",
       "      <td>4.000000</td>\n",
       "    </tr>\n",
       "    <tr>\n",
       "      <th>25%</th>\n",
       "      <td>86.000000</td>\n",
       "      <td>16.000000</td>\n",
       "    </tr>\n",
       "    <tr>\n",
       "      <th>50%</th>\n",
       "      <td>88.000000</td>\n",
       "      <td>24.000000</td>\n",
       "    </tr>\n",
       "    <tr>\n",
       "      <th>75%</th>\n",
       "      <td>90.000000</td>\n",
       "      <td>40.000000</td>\n",
       "    </tr>\n",
       "    <tr>\n",
       "      <th>max</th>\n",
       "      <td>100.000000</td>\n",
       "      <td>2300.000000</td>\n",
       "    </tr>\n",
       "  </tbody>\n",
       "</table>\n",
       "</div>"
      ],
      "text/plain": [
       "              points          price\n",
       "count  137235.000000  137235.000000\n",
       "mean       87.787919      33.131482\n",
       "std         3.221680      36.322536\n",
       "min        80.000000       4.000000\n",
       "25%        86.000000      16.000000\n",
       "50%        88.000000      24.000000\n",
       "75%        90.000000      40.000000\n",
       "max       100.000000    2300.000000"
      ]
     },
     "metadata": {},
     "output_type": "display_data"
    },
    {
     "data": {
      "text/plain": [
       "None"
      ]
     },
     "metadata": {},
     "output_type": "display_data"
    }
   ],
   "source": [
    "display(prices.describe(), prices.info())"
   ]
  },
  {
   "cell_type": "code",
   "execution_count": 41,
   "metadata": {},
   "outputs": [
    {
     "data": {
      "text/html": [
       "<div>\n",
       "<style scoped>\n",
       "    .dataframe tbody tr th:only-of-type {\n",
       "        vertical-align: middle;\n",
       "    }\n",
       "\n",
       "    .dataframe tbody tr th {\n",
       "        vertical-align: top;\n",
       "    }\n",
       "\n",
       "    .dataframe thead th {\n",
       "        text-align: right;\n",
       "    }\n",
       "</style>\n",
       "<table border=\"1\" class=\"dataframe\">\n",
       "  <thead>\n",
       "    <tr style=\"text-align: right;\">\n",
       "      <th></th>\n",
       "      <th>country</th>\n",
       "      <th>designation</th>\n",
       "      <th>points</th>\n",
       "      <th>price</th>\n",
       "      <th>province</th>\n",
       "      <th>variety</th>\n",
       "      <th>winery</th>\n",
       "    </tr>\n",
       "  </thead>\n",
       "  <tbody>\n",
       "    <tr>\n",
       "      <th>277</th>\n",
       "      <td>Portugal</td>\n",
       "      <td>Portal do Fidalgo</td>\n",
       "      <td>92</td>\n",
       "      <td>35.0</td>\n",
       "      <td>Vinho Verde</td>\n",
       "      <td>Alvarinho</td>\n",
       "      <td>Provam</td>\n",
       "    </tr>\n",
       "    <tr>\n",
       "      <th>993</th>\n",
       "      <td>Portugal</td>\n",
       "      <td>Campelo</td>\n",
       "      <td>85</td>\n",
       "      <td>10.0</td>\n",
       "      <td>Vinho Verde</td>\n",
       "      <td>Portuguese White</td>\n",
       "      <td>Caves Campelo</td>\n",
       "    </tr>\n",
       "    <tr>\n",
       "      <th>994</th>\n",
       "      <td>Portugal</td>\n",
       "      <td>Miranda</td>\n",
       "      <td>85</td>\n",
       "      <td>9.0</td>\n",
       "      <td>Vinho Verde</td>\n",
       "      <td>Portuguese White</td>\n",
       "      <td>Caves Campelo</td>\n",
       "    </tr>\n",
       "    <tr>\n",
       "      <th>1558</th>\n",
       "      <td>Portugal</td>\n",
       "      <td>Campelo</td>\n",
       "      <td>84</td>\n",
       "      <td>10.0</td>\n",
       "      <td>Vinho Verde</td>\n",
       "      <td>Rosé</td>\n",
       "      <td>Caves Campelo</td>\n",
       "    </tr>\n",
       "    <tr>\n",
       "      <th>1559</th>\n",
       "      <td>Portugal</td>\n",
       "      <td>Casal da Seara</td>\n",
       "      <td>84</td>\n",
       "      <td>10.0</td>\n",
       "      <td>Vinho Verde</td>\n",
       "      <td>Portuguese White</td>\n",
       "      <td>Caves Campelo</td>\n",
       "    </tr>\n",
       "    <tr>\n",
       "      <th>...</th>\n",
       "      <td>...</td>\n",
       "      <td>...</td>\n",
       "      <td>...</td>\n",
       "      <td>...</td>\n",
       "      <td>...</td>\n",
       "      <td>...</td>\n",
       "      <td>...</td>\n",
       "    </tr>\n",
       "    <tr>\n",
       "      <th>141129</th>\n",
       "      <td>Portugal</td>\n",
       "      <td>NaN</td>\n",
       "      <td>83</td>\n",
       "      <td>9.0</td>\n",
       "      <td>Vinho Verde</td>\n",
       "      <td>Portuguese White</td>\n",
       "      <td>Adega Cooperativa Ponte de Lima</td>\n",
       "    </tr>\n",
       "    <tr>\n",
       "      <th>141143</th>\n",
       "      <td>Portugal</td>\n",
       "      <td>NaN</td>\n",
       "      <td>82</td>\n",
       "      <td>8.0</td>\n",
       "      <td>Vinho Verde</td>\n",
       "      <td>Portuguese White</td>\n",
       "      <td>Casa de Vila Verde</td>\n",
       "    </tr>\n",
       "    <tr>\n",
       "      <th>141148</th>\n",
       "      <td>Portugal</td>\n",
       "      <td>Gatão</td>\n",
       "      <td>82</td>\n",
       "      <td>6.0</td>\n",
       "      <td>Vinho Verde</td>\n",
       "      <td>Portuguese White</td>\n",
       "      <td>Borges</td>\n",
       "    </tr>\n",
       "    <tr>\n",
       "      <th>143472</th>\n",
       "      <td>Portugal</td>\n",
       "      <td>NaN</td>\n",
       "      <td>86</td>\n",
       "      <td>9.0</td>\n",
       "      <td>Vinho Verde</td>\n",
       "      <td>White Blend</td>\n",
       "      <td>Casa de Vila Verde</td>\n",
       "    </tr>\n",
       "    <tr>\n",
       "      <th>143575</th>\n",
       "      <td>Portugal</td>\n",
       "      <td>NaN</td>\n",
       "      <td>87</td>\n",
       "      <td>15.0</td>\n",
       "      <td>Vinho Verde</td>\n",
       "      <td>Alvarinho</td>\n",
       "      <td>Portal do Fidalgo</td>\n",
       "    </tr>\n",
       "  </tbody>\n",
       "</table>\n",
       "<p>310 rows × 7 columns</p>\n",
       "</div>"
      ],
      "text/plain": [
       "         country        designation  points  price     province  \\\n",
       "277     Portugal  Portal do Fidalgo      92   35.0  Vinho Verde   \n",
       "993     Portugal            Campelo      85   10.0  Vinho Verde   \n",
       "994     Portugal            Miranda      85    9.0  Vinho Verde   \n",
       "1558    Portugal            Campelo      84   10.0  Vinho Verde   \n",
       "1559    Portugal     Casal da Seara      84   10.0  Vinho Verde   \n",
       "...          ...                ...     ...    ...          ...   \n",
       "141129  Portugal                NaN      83    9.0  Vinho Verde   \n",
       "141143  Portugal                NaN      82    8.0  Vinho Verde   \n",
       "141148  Portugal              Gatão      82    6.0  Vinho Verde   \n",
       "143472  Portugal                NaN      86    9.0  Vinho Verde   \n",
       "143575  Portugal                NaN      87   15.0  Vinho Verde   \n",
       "\n",
       "                 variety                           winery  \n",
       "277            Alvarinho                           Provam  \n",
       "993     Portuguese White                    Caves Campelo  \n",
       "994     Portuguese White                    Caves Campelo  \n",
       "1558                Rosé                    Caves Campelo  \n",
       "1559    Portuguese White                    Caves Campelo  \n",
       "...                  ...                              ...  \n",
       "141129  Portuguese White  Adega Cooperativa Ponte de Lima  \n",
       "141143  Portuguese White               Casa de Vila Verde  \n",
       "141148  Portuguese White                           Borges  \n",
       "143472       White Blend               Casa de Vila Verde  \n",
       "143575         Alvarinho                Portal do Fidalgo  \n",
       "\n",
       "[310 rows x 7 columns]"
      ]
     },
     "metadata": {},
     "output_type": "display_data"
    }
   ],
   "source": [
    "pp = prices[prices['province'] == 'Vinho Verde']\n",
    "display(pp)"
   ]
  },
  {
   "cell_type": "code",
   "execution_count": 20,
   "metadata": {},
   "outputs": [
    {
     "data": {
      "text/plain": [
       "array(['Alvarinho', 'Portuguese White', 'Rosé', 'Portuguese Red',\n",
       "       'Arinto', 'Loureiro', 'Portuguese Rosé', 'Vinhão', 'Avesso',\n",
       "       'Azal', 'White Blend'], dtype=object)"
      ]
     },
     "execution_count": 20,
     "metadata": {},
     "output_type": "execute_result"
    }
   ],
   "source": [
    "pp['variety'].unique()\n",
    "#white = ['Portuguese White', 'Arinto', 'Loureiro', 'Alvarinho','Avesso', 'Azal', 'White Blend']\n",
    "#red = ['Portuguese Red', 'Vinhão']\n",
    "#rose = ['Rosé','Portuguese Rosé']"
   ]
  },
  {
   "cell_type": "code",
   "execution_count": 21,
   "metadata": {},
   "outputs": [
    {
     "name": "stderr",
     "output_type": "stream",
     "text": [
      "C:\\Users\\Iurii Novachynskyi\\AppData\\Local\\Temp\\ipykernel_4500\\426181742.py:1: SettingWithCopyWarning: \n",
      "A value is trying to be set on a copy of a slice from a DataFrame.\n",
      "Try using .loc[row_indexer,col_indexer] = value instead\n",
      "\n",
      "See the caveats in the documentation: https://pandas.pydata.org/pandas-docs/stable/user_guide/indexing.html#returning-a-view-versus-a-copy\n",
      "  pp['wine_type'] = pp['variety'].apply(lambda value: 'red' if value in ['Portuguese Red', 'Vinhão'] else 'rose' if value in ['Rosé', 'Portuguese Rosé'] else 'white')\n"
     ]
    },
    {
     "data": {
      "text/plain": [
       "wine_type\n",
       "white    269\n",
       "rose      32\n",
       "red        9\n",
       "Name: count, dtype: int64"
      ]
     },
     "execution_count": 21,
     "metadata": {},
     "output_type": "execute_result"
    }
   ],
   "source": [
    "pp['wine_type'] = pp['variety'].apply(lambda value: 'red' if value in ['Portuguese Red', 'Vinhão'] else 'rose' if value in ['Rosé', 'Portuguese Rosé'] else 'white')\n",
    "pp['wine_type'].value_counts()"
   ]
  },
  {
   "cell_type": "code",
   "execution_count": 22,
   "metadata": {},
   "outputs": [
    {
     "data": {
      "text/html": [
       "<div>\n",
       "<style scoped>\n",
       "    .dataframe tbody tr th:only-of-type {\n",
       "        vertical-align: middle;\n",
       "    }\n",
       "\n",
       "    .dataframe tbody tr th {\n",
       "        vertical-align: top;\n",
       "    }\n",
       "\n",
       "    .dataframe thead th {\n",
       "        text-align: right;\n",
       "    }\n",
       "</style>\n",
       "<table border=\"1\" class=\"dataframe\">\n",
       "  <thead>\n",
       "    <tr style=\"text-align: right;\">\n",
       "      <th></th>\n",
       "      <th>country</th>\n",
       "      <th>designation</th>\n",
       "      <th>points</th>\n",
       "      <th>price</th>\n",
       "      <th>province</th>\n",
       "      <th>variety</th>\n",
       "      <th>winery</th>\n",
       "      <th>wine_type</th>\n",
       "    </tr>\n",
       "  </thead>\n",
       "  <tbody>\n",
       "    <tr>\n",
       "      <th>993</th>\n",
       "      <td>Portugal</td>\n",
       "      <td>Campelo</td>\n",
       "      <td>85</td>\n",
       "      <td>10.0</td>\n",
       "      <td>Vinho Verde</td>\n",
       "      <td>Portuguese White</td>\n",
       "      <td>Caves Campelo</td>\n",
       "      <td>white</td>\n",
       "    </tr>\n",
       "    <tr>\n",
       "      <th>994</th>\n",
       "      <td>Portugal</td>\n",
       "      <td>Miranda</td>\n",
       "      <td>85</td>\n",
       "      <td>9.0</td>\n",
       "      <td>Vinho Verde</td>\n",
       "      <td>Portuguese White</td>\n",
       "      <td>Caves Campelo</td>\n",
       "      <td>white</td>\n",
       "    </tr>\n",
       "    <tr>\n",
       "      <th>1558</th>\n",
       "      <td>Portugal</td>\n",
       "      <td>Campelo</td>\n",
       "      <td>84</td>\n",
       "      <td>10.0</td>\n",
       "      <td>Vinho Verde</td>\n",
       "      <td>Rosé</td>\n",
       "      <td>Caves Campelo</td>\n",
       "      <td>rose</td>\n",
       "    </tr>\n",
       "    <tr>\n",
       "      <th>1559</th>\n",
       "      <td>Portugal</td>\n",
       "      <td>Casal da Seara</td>\n",
       "      <td>84</td>\n",
       "      <td>10.0</td>\n",
       "      <td>Vinho Verde</td>\n",
       "      <td>Portuguese White</td>\n",
       "      <td>Caves Campelo</td>\n",
       "      <td>white</td>\n",
       "    </tr>\n",
       "    <tr>\n",
       "      <th>1694</th>\n",
       "      <td>Portugal</td>\n",
       "      <td>Torre de Vila Nova</td>\n",
       "      <td>88</td>\n",
       "      <td>12.0</td>\n",
       "      <td>Vinho Verde</td>\n",
       "      <td>Portuguese White</td>\n",
       "      <td>Casa de Vila Nova</td>\n",
       "      <td>white</td>\n",
       "    </tr>\n",
       "    <tr>\n",
       "      <th>...</th>\n",
       "      <td>...</td>\n",
       "      <td>...</td>\n",
       "      <td>...</td>\n",
       "      <td>...</td>\n",
       "      <td>...</td>\n",
       "      <td>...</td>\n",
       "      <td>...</td>\n",
       "      <td>...</td>\n",
       "    </tr>\n",
       "    <tr>\n",
       "      <th>141129</th>\n",
       "      <td>Portugal</td>\n",
       "      <td>NaN</td>\n",
       "      <td>83</td>\n",
       "      <td>9.0</td>\n",
       "      <td>Vinho Verde</td>\n",
       "      <td>Portuguese White</td>\n",
       "      <td>Adega Cooperativa Ponte de Lima</td>\n",
       "      <td>white</td>\n",
       "    </tr>\n",
       "    <tr>\n",
       "      <th>141143</th>\n",
       "      <td>Portugal</td>\n",
       "      <td>NaN</td>\n",
       "      <td>82</td>\n",
       "      <td>8.0</td>\n",
       "      <td>Vinho Verde</td>\n",
       "      <td>Portuguese White</td>\n",
       "      <td>Casa de Vila Verde</td>\n",
       "      <td>white</td>\n",
       "    </tr>\n",
       "    <tr>\n",
       "      <th>141148</th>\n",
       "      <td>Portugal</td>\n",
       "      <td>Gatão</td>\n",
       "      <td>82</td>\n",
       "      <td>6.0</td>\n",
       "      <td>Vinho Verde</td>\n",
       "      <td>Portuguese White</td>\n",
       "      <td>Borges</td>\n",
       "      <td>white</td>\n",
       "    </tr>\n",
       "    <tr>\n",
       "      <th>143472</th>\n",
       "      <td>Portugal</td>\n",
       "      <td>NaN</td>\n",
       "      <td>86</td>\n",
       "      <td>9.0</td>\n",
       "      <td>Vinho Verde</td>\n",
       "      <td>White Blend</td>\n",
       "      <td>Casa de Vila Verde</td>\n",
       "      <td>white</td>\n",
       "    </tr>\n",
       "    <tr>\n",
       "      <th>143575</th>\n",
       "      <td>Portugal</td>\n",
       "      <td>NaN</td>\n",
       "      <td>87</td>\n",
       "      <td>15.0</td>\n",
       "      <td>Vinho Verde</td>\n",
       "      <td>Alvarinho</td>\n",
       "      <td>Portal do Fidalgo</td>\n",
       "      <td>white</td>\n",
       "    </tr>\n",
       "  </tbody>\n",
       "</table>\n",
       "<p>296 rows × 8 columns</p>\n",
       "</div>"
      ],
      "text/plain": [
       "         country         designation  points  price     province  \\\n",
       "993     Portugal             Campelo      85   10.0  Vinho Verde   \n",
       "994     Portugal             Miranda      85    9.0  Vinho Verde   \n",
       "1558    Portugal             Campelo      84   10.0  Vinho Verde   \n",
       "1559    Portugal      Casal da Seara      84   10.0  Vinho Verde   \n",
       "1694    Portugal  Torre de Vila Nova      88   12.0  Vinho Verde   \n",
       "...          ...                 ...     ...    ...          ...   \n",
       "141129  Portugal                 NaN      83    9.0  Vinho Verde   \n",
       "141143  Portugal                 NaN      82    8.0  Vinho Verde   \n",
       "141148  Portugal               Gatão      82    6.0  Vinho Verde   \n",
       "143472  Portugal                 NaN      86    9.0  Vinho Verde   \n",
       "143575  Portugal                 NaN      87   15.0  Vinho Verde   \n",
       "\n",
       "                 variety                           winery wine_type  \n",
       "993     Portuguese White                    Caves Campelo     white  \n",
       "994     Portuguese White                    Caves Campelo     white  \n",
       "1558                Rosé                    Caves Campelo      rose  \n",
       "1559    Portuguese White                    Caves Campelo     white  \n",
       "1694    Portuguese White                Casa de Vila Nova     white  \n",
       "...                  ...                              ...       ...  \n",
       "141129  Portuguese White  Adega Cooperativa Ponte de Lima     white  \n",
       "141143  Portuguese White               Casa de Vila Verde     white  \n",
       "141148  Portuguese White                           Borges     white  \n",
       "143472       White Blend               Casa de Vila Verde     white  \n",
       "143575         Alvarinho                Portal do Fidalgo     white  \n",
       "\n",
       "[296 rows x 8 columns]"
      ]
     },
     "execution_count": 22,
     "metadata": {},
     "output_type": "execute_result"
    }
   ],
   "source": [
    "#without outliers\n",
    "Q1 = pp['price'].quantile(0.25)\n",
    "Q3 = pp['price'].quantile(0.75)\n",
    "IQR = Q3 - Q1\n",
    "pp = pp[(pp['price'] >= (Q1 - 1.5 * IQR)) & (pp['price'] <= (Q3 + 1.5 * IQR))]\n",
    "pp"
   ]
  },
  {
   "cell_type": "code",
   "execution_count": 42,
   "metadata": {},
   "outputs": [
    {
     "data": {
      "text/plain": [
       "array([92, 85, 84, 88, 82, 90, 87, 86, 83, 80, 91, 89], dtype=int64)"
      ]
     },
     "metadata": {},
     "output_type": "display_data"
    }
   ],
   "source": [
    "display(pp['points'].unique())"
   ]
  },
  {
   "cell_type": "code",
   "execution_count": 43,
   "metadata": {},
   "outputs": [
    {
     "data": {
      "text/plain": [
       "array([35., 10.,  9., 12., 19., 13., 21.,  8.,  6., 17., 20., 15., 11.,\n",
       "        7., 16., 18., 33., 22., 45., 14.,  5., 23., 26., 25., 24.])"
      ]
     },
     "metadata": {},
     "output_type": "display_data"
    }
   ],
   "source": [
    "display(pp['price'].unique())"
   ]
  },
  {
   "cell_type": "markdown",
   "metadata": {},
   "source": [
    "<details>\n",
    "<summary>Wine Spectator's 100-Point Scale</summary>\n",
    "95-100 Classic: a great wine.<br />\n",
    "90-94 Outstanding: a wine of superior character and style.<br />\n",
    "85-89 Very good: a wine with special qualities.<br />\n",
    "80-84 Good: a solid, well-made wine.<br />\n",
    "75-79 Mediocre: a drinkable wine that may have minor flaws.<br />\n",
    "50-74 Not recommended.<br />\n",
    "Source : https://www.winespectator.com/articles/scoring-scale\n",
    "</details>\n",
    "\n"
   ]
  },
  {
   "cell_type": "code",
   "execution_count": null,
   "metadata": {},
   "outputs": [
    {
     "data": {
      "text/plain": [
       "quality_category\n",
       "medium    177\n",
       "low        80\n",
       "high       39\n",
       "Name: count, dtype: int64"
      ]
     },
     "execution_count": 80,
     "metadata": {},
     "output_type": "execute_result"
    }
   ],
   "source": [
    "pp['quality_category'] = pp['points'].apply(lambda value: 'low' if value <= 84 else 'medium' if value <= 89 else 'high')\n",
    "pp['quality_category'].value_counts()"
   ]
  },
  {
   "cell_type": "code",
   "execution_count": null,
   "metadata": {},
   "outputs": [
    {
     "data": {
      "text/plain": [
       "Text(0.5, 1.0, 'Distribution of Quality Categories in Wine Prices')"
      ]
     },
     "execution_count": 81,
     "metadata": {},
     "output_type": "execute_result"
    },
    {
     "data": {
      "image/png": "[encoded data removed]",
      "text/plain": [
       "<Figure size 640x480 with 1 Axes>"
      ]
     },
     "metadata": {},
     "output_type": "display_data"
    }
   ],
   "source": [
    "order = ['low', 'medium', 'high']\n",
    "pp['quality_category'] = pd.Categorical(pp['quality_category'], categories=order, ordered=True)\n",
    "hist = sns.histplot(data=pp, x='quality_category')\n",
    "plt.xlabel('Quality Category')\n",
    "plt.ylabel('Count')\n",
    "plt.title('Distribution of Quality Categories in Wine Prices')"
   ]
  },
  {
   "cell_type": "code",
   "execution_count": null,
   "metadata": {},
   "outputs": [
    {
     "data": {
      "text/plain": [
       "(4.0, 22.0)"
      ]
     },
     "execution_count": 85,
     "metadata": {},
     "output_type": "execute_result"
    },
    {
     "data": {
      "image/png": "[encoded data removed]",
      "text/plain": [
       "<Figure size 640x480 with 1 Axes>"
      ]
     },
     "metadata": {},
     "output_type": "display_data"
    }
   ],
   "source": [
    "sns.boxplot(data=pp, x='quality_category', y='price')\n",
    "plt.title(\"Wine quality & Prices per bottle\")\n",
    "plt.ylim(4, 22)"
   ]
  },
  {
   "cell_type": "code",
   "execution_count": null,
   "metadata": {},
   "outputs": [
    {
     "data": {
      "text/plain": [
       "quality_category\n",
       "low        8.037500\n",
       "medium    10.937853\n",
       "high      15.256410\n",
       "Name: price, dtype: float64"
      ]
     },
     "metadata": {},
     "output_type": "display_data"
    }
   ],
   "source": [
    "category_prices = pp.groupby('quality_category')['price']\n",
    "display(category_prices.mean())"
   ]
  }
 ],
 "metadata": {
  "kernelspec": {
   "display_name": "CAB",
   "language": "python",
   "name": "python3"
  },
  "language_info": {
   "codemirror_mode": {
    "name": "ipython",
    "version": 3
   },
   "file_extension": ".py",
   "mimetype": "text/x-python",
   "name": "python",
   "nbconvert_exporter": "python",
   "pygments_lexer": "ipython3",
   "version": "3.10.12"
  }
 },
 "nbformat": 4,
 "nbformat_minor": 2
}
